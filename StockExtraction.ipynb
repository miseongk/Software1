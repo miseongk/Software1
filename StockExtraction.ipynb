{
 "cells": [
  {
   "cell_type": "code",
   "execution_count": 1,
   "outputs": [],
   "source": [
    "from DBUpdater import DBUpdater\n",
    "from GetData import GetData\n",
    "from StockExtraction import StockExtraction"
   ],
   "metadata": {
    "collapsed": false,
    "pycharm": {
     "name": "#%%\n"
    }
   }
  },
  {
   "cell_type": "markdown",
   "source": [
    "## 상장 종목 수집 및 저장"
   ],
   "metadata": {
    "collapsed": false,
    "pycharm": {
     "name": "#%% md\n"
    }
   }
  },
  {
   "cell_type": "code",
   "execution_count": 2,
   "outputs": [
    {
     "name": "stdout",
     "output_type": "stream",
     "text": [
      "Already updated today.\n"
     ]
    }
   ],
   "source": [
    "dbu = DBUpdater()\n",
    "dbu.update_comp_info()"
   ],
   "metadata": {
    "collapsed": false,
    "pycharm": {
     "name": "#%%\n"
    }
   }
  },
  {
   "cell_type": "markdown",
   "source": [
    "## 수정 주가 데이터 수집 및 저장\n",
    "- FDR에서 시세 가져와서 저장"
   ],
   "metadata": {
    "collapsed": false,
    "pycharm": {
     "name": "#%% md\n"
    }
   }
  },
  {
   "cell_type": "code",
   "execution_count": 12,
   "outputs": [
    {
     "name": "stdout",
     "output_type": "stream",
     "text": [
      "Already updated today.\n",
      "[#000020] Update daily price between [2022-06-13] and [2022-06-19] Successfully!\n",
      "[#000040] Update daily price between [2022-06-13] and [2022-06-19] Successfully!\n",
      "[#000050] Update daily price between [2022-06-13] and [2022-06-19] Successfully!\n",
      "[#000060] Update daily price between [2022-06-13] and [2022-06-19] Successfully!\n",
      "[#000070] Update daily price between [2022-06-13] and [2022-06-19] Successfully!\n",
      "[#000080] Update daily price between [2022-06-13] and [2022-06-19] Successfully!\n",
      "[#000100] Update daily price between [2022-06-13] and [2022-06-19] Successfully!\n",
      "[#000120] Update daily price between [2022-06-13] and [2022-06-19] Successfully!\n",
      "[#000140] Update daily price between [2022-06-13] and [2022-06-19] Successfully!\n",
      "[#000150] Update daily price between [2022-06-13] and [2022-06-19] Successfully!\n",
      "[#000180] Update daily price between [2022-06-13] and [2022-06-19] Successfully!\n",
      "[#000210] Update daily price between [2022-06-13] and [2022-06-19] Successfully!\n",
      "[#000220] Update daily price between [2022-06-13] and [2022-06-19] Successfully!\n",
      "[#000230] Update daily price between [2022-06-13] and [2022-06-19] Successfully!\n",
      "[#000240] Update daily price between [2022-06-13] and [2022-06-19] Successfully!\n",
      "[#000250] Update daily price between [2022-06-13] and [2022-06-19] Successfully!\n",
      "[#000270] Update daily price between [2022-06-13] and [2022-06-19] Successfully!\n",
      "[#000300] Update daily price between [2022-06-13] and [2022-06-19] Successfully!\n",
      "[#000320] Update daily price between [2022-06-13] and [2022-06-19] Successfully!\n",
      "[#000370] Update daily price between [2022-06-13] and [2022-06-19] Successfully!\n",
      "[#000390] Update daily price between [2022-06-13] and [2022-06-19] Successfully!\n",
      "[#000400] Update daily price between [2022-06-13] and [2022-06-19] Successfully!\n",
      "[#000430] Update daily price between [2022-06-13] and [2022-06-19] Successfully!\n",
      "[#000440] Update daily price between [2022-06-13] and [2022-06-19] Successfully!\n",
      "[#000480] Update daily price between [2022-06-13] and [2022-06-19] Successfully!\n",
      "[#000490] Update daily price between [2022-06-13] and [2022-06-19] Successfully!\n"
     ]
    },
    {
     "ename": "KeyboardInterrupt",
     "evalue": "",
     "output_type": "error",
     "traceback": [
      "\u001B[0;31m---------------------------------------------------------------------------\u001B[0m",
      "\u001B[0;31mKeyboardInterrupt\u001B[0m                         Traceback (most recent call last)",
      "Input \u001B[0;32mIn [12]\u001B[0m, in \u001B[0;36m<cell line: 3>\u001B[0;34m()\u001B[0m\n\u001B[1;32m      1\u001B[0m start \u001B[38;5;241m=\u001B[39m \u001B[38;5;124m'\u001B[39m\u001B[38;5;124m2022-06-13\u001B[39m\u001B[38;5;124m'\u001B[39m\n\u001B[1;32m      2\u001B[0m end \u001B[38;5;241m=\u001B[39m \u001B[38;5;124m'\u001B[39m\u001B[38;5;124m2022-06-19\u001B[39m\u001B[38;5;124m'\u001B[39m\n\u001B[0;32m----> 3\u001B[0m \u001B[43mdbu\u001B[49m\u001B[38;5;241;43m.\u001B[39;49m\u001B[43mupdate_daily_price\u001B[49m\u001B[43m(\u001B[49m\u001B[43mstart\u001B[49m\u001B[43m,\u001B[49m\u001B[43m \u001B[49m\u001B[43mend\u001B[49m\u001B[43m)\u001B[49m\n",
      "File \u001B[0;32m~/PycharmProjects/invest_project/DBUpdater.py:195\u001B[0m, in \u001B[0;36mDBUpdater.update_daily_price\u001B[0;34m(self, start, end)\u001B[0m\n\u001B[1;32m    193\u001B[0m code \u001B[38;5;241m=\u001B[39m stock[\u001B[38;5;124m'\u001B[39m\u001B[38;5;124mcode\u001B[39m\u001B[38;5;124m'\u001B[39m]\u001B[38;5;241m.\u001B[39mvalues[idx]\n\u001B[1;32m    194\u001B[0m company \u001B[38;5;241m=\u001B[39m stock[\u001B[38;5;124m'\u001B[39m\u001B[38;5;124mcompany\u001B[39m\u001B[38;5;124m'\u001B[39m]\u001B[38;5;241m.\u001B[39mvalues[idx]\n\u001B[0;32m--> 195\u001B[0m \u001B[38;5;28;43mself\u001B[39;49m\u001B[38;5;241;43m.\u001B[39;49m\u001B[43mreplace_into_daily_price_db\u001B[49m\u001B[43m(\u001B[49m\u001B[43mcode\u001B[49m\u001B[43m,\u001B[49m\u001B[43m \u001B[49m\u001B[43mcompany\u001B[49m\u001B[43m,\u001B[49m\u001B[43m \u001B[49m\u001B[43mstart\u001B[49m\u001B[43m,\u001B[49m\u001B[43m \u001B[49m\u001B[43mend\u001B[49m\u001B[43m)\u001B[49m\n",
      "File \u001B[0;32m~/PycharmProjects/invest_project/DBUpdater.py:88\u001B[0m, in \u001B[0;36mDBUpdater.replace_into_daily_price_db\u001B[0;34m(self, code, company, start, end)\u001B[0m\n\u001B[1;32m     86\u001B[0m daily \u001B[38;5;241m=\u001B[39m pd\u001B[38;5;241m.\u001B[39mDataFrame()\n\u001B[1;32m     87\u001B[0m \u001B[38;5;66;03m# FDR 패키지로 시세 가져오기\u001B[39;00m\n\u001B[0;32m---> 88\u001B[0m ohlcv \u001B[38;5;241m=\u001B[39m \u001B[43mfdr\u001B[49m\u001B[38;5;241;43m.\u001B[39;49m\u001B[43mDataReader\u001B[49m\u001B[43m(\u001B[49m\u001B[43mcode\u001B[49m\u001B[43m,\u001B[49m\u001B[43m \u001B[49m\u001B[43mstart\u001B[49m\u001B[43m,\u001B[49m\u001B[43m \u001B[49m\u001B[43mend\u001B[49m\u001B[43m)\u001B[49m\n\u001B[1;32m     89\u001B[0m ohlcv[\u001B[38;5;124m'\u001B[39m\u001B[38;5;124mCode\u001B[39m\u001B[38;5;124m'\u001B[39m] \u001B[38;5;241m=\u001B[39m code\n\u001B[1;32m     90\u001B[0m ohlcv[\u001B[38;5;124m'\u001B[39m\u001B[38;5;124mName\u001B[39m\u001B[38;5;124m'\u001B[39m] \u001B[38;5;241m=\u001B[39m company\n",
      "File \u001B[0;32m~/PycharmProjects/invest_project/venv/lib/python3.10/site-packages/FinanceDataReader/data.py:33\u001B[0m, in \u001B[0;36mDataReader\u001B[0;34m(symbol, start, end, exchange, data_source)\u001B[0m\n\u001B[1;32m     30\u001B[0m \u001B[38;5;66;03m# KRX and Naver Finance\u001B[39;00m\n\u001B[1;32m     31\u001B[0m \u001B[38;5;28;01mif\u001B[39;00m (symbol[:\u001B[38;5;241m5\u001B[39m]\u001B[38;5;241m.\u001B[39misdigit() \u001B[38;5;129;01mand\u001B[39;00m exchange\u001B[38;5;241m==\u001B[39m\u001B[38;5;28;01mNone\u001B[39;00m) \u001B[38;5;129;01mor\u001B[39;00m \\\n\u001B[1;32m     32\u001B[0m    (symbol[:\u001B[38;5;241m5\u001B[39m]\u001B[38;5;241m.\u001B[39misdigit() \u001B[38;5;129;01mand\u001B[39;00m exchange \u001B[38;5;129;01mand\u001B[39;00m exchange\u001B[38;5;241m.\u001B[39mupper() \u001B[38;5;129;01min\u001B[39;00m [\u001B[38;5;124m'\u001B[39m\u001B[38;5;124mKRX\u001B[39m\u001B[38;5;124m'\u001B[39m, \u001B[38;5;124m'\u001B[39m\u001B[38;5;124m한국거래소\u001B[39m\u001B[38;5;124m'\u001B[39m]):\n\u001B[0;32m---> 33\u001B[0m     \u001B[38;5;28;01mreturn\u001B[39;00m \u001B[43mNaverDailyReader\u001B[49m\u001B[43m(\u001B[49m\u001B[43msymbol\u001B[49m\u001B[43m,\u001B[49m\u001B[43m \u001B[49m\u001B[43mstart\u001B[49m\u001B[43m,\u001B[49m\u001B[43m \u001B[49m\u001B[43mend\u001B[49m\u001B[43m,\u001B[49m\u001B[43m \u001B[49m\u001B[43mexchange\u001B[49m\u001B[43m,\u001B[49m\u001B[43m \u001B[49m\u001B[43mdata_source\u001B[49m\u001B[43m)\u001B[49m\u001B[38;5;241;43m.\u001B[39;49m\u001B[43mread\u001B[49m\u001B[43m(\u001B[49m\u001B[43m)\u001B[49m\n\u001B[1;32m     35\u001B[0m \u001B[38;5;66;03m# KRX-DELISTING\u001B[39;00m\n\u001B[1;32m     36\u001B[0m \u001B[38;5;28;01mif\u001B[39;00m (symbol[:\u001B[38;5;241m5\u001B[39m]\u001B[38;5;241m.\u001B[39misdigit() \u001B[38;5;129;01mand\u001B[39;00m exchange \u001B[38;5;129;01mand\u001B[39;00m exchange\u001B[38;5;241m.\u001B[39mupper() \u001B[38;5;129;01min\u001B[39;00m [\u001B[38;5;124m'\u001B[39m\u001B[38;5;124mKRX-DELISTING\u001B[39m\u001B[38;5;124m'\u001B[39m]):\n",
      "File \u001B[0;32m~/PycharmProjects/invest_project/venv/lib/python3.10/site-packages/FinanceDataReader/naver/data.py:16\u001B[0m, in \u001B[0;36mNaverDailyReader.read\u001B[0;34m(self)\u001B[0m\n\u001B[1;32m     14\u001B[0m \u001B[38;5;28;01mdef\u001B[39;00m \u001B[38;5;21mread\u001B[39m(\u001B[38;5;28mself\u001B[39m):\n\u001B[1;32m     15\u001B[0m     url \u001B[38;5;241m=\u001B[39m \u001B[38;5;124m'\u001B[39m\u001B[38;5;124mhttps://fchart.stock.naver.com/sise.nhn?timeframe=day&count=6000&requestType=0&symbol=\u001B[39m\u001B[38;5;124m'\u001B[39m\n\u001B[0;32m---> 16\u001B[0m     r \u001B[38;5;241m=\u001B[39m \u001B[43mrequests\u001B[49m\u001B[38;5;241;43m.\u001B[39;49m\u001B[43mget\u001B[49m\u001B[43m(\u001B[49m\u001B[43murl\u001B[49m\u001B[43m \u001B[49m\u001B[38;5;241;43m+\u001B[39;49m\u001B[43m \u001B[49m\u001B[38;5;28;43mself\u001B[39;49m\u001B[38;5;241;43m.\u001B[39;49m\u001B[43msymbol\u001B[49m\u001B[43m)\u001B[49m\n\u001B[1;32m     18\u001B[0m     data_list \u001B[38;5;241m=\u001B[39m re\u001B[38;5;241m.\u001B[39mfindall(\u001B[38;5;124m'\u001B[39m\u001B[38;5;124m<item data=\u001B[39m\u001B[38;5;130;01m\\\"\u001B[39;00m\u001B[38;5;124m(.*?)\u001B[39m\u001B[38;5;130;01m\\\"\u001B[39;00m\u001B[38;5;124m />\u001B[39m\u001B[38;5;124m'\u001B[39m, r\u001B[38;5;241m.\u001B[39mtext, re\u001B[38;5;241m.\u001B[39mDOTALL)\n\u001B[1;32m     19\u001B[0m     \u001B[38;5;28;01mif\u001B[39;00m \u001B[38;5;28mlen\u001B[39m(data_list) \u001B[38;5;241m==\u001B[39m \u001B[38;5;241m0\u001B[39m:\n",
      "File \u001B[0;32m~/PycharmProjects/invest_project/venv/lib/python3.10/site-packages/requests/api.py:75\u001B[0m, in \u001B[0;36mget\u001B[0;34m(url, params, **kwargs)\u001B[0m\n\u001B[1;32m     64\u001B[0m \u001B[38;5;28;01mdef\u001B[39;00m \u001B[38;5;21mget\u001B[39m(url, params\u001B[38;5;241m=\u001B[39m\u001B[38;5;28;01mNone\u001B[39;00m, \u001B[38;5;241m*\u001B[39m\u001B[38;5;241m*\u001B[39mkwargs):\n\u001B[1;32m     65\u001B[0m     \u001B[38;5;124mr\u001B[39m\u001B[38;5;124;03m\"\"\"Sends a GET request.\u001B[39;00m\n\u001B[1;32m     66\u001B[0m \n\u001B[1;32m     67\u001B[0m \u001B[38;5;124;03m    :param url: URL for the new :class:`Request` object.\u001B[39;00m\n\u001B[0;32m   (...)\u001B[0m\n\u001B[1;32m     72\u001B[0m \u001B[38;5;124;03m    :rtype: requests.Response\u001B[39;00m\n\u001B[1;32m     73\u001B[0m \u001B[38;5;124;03m    \"\"\"\u001B[39;00m\n\u001B[0;32m---> 75\u001B[0m     \u001B[38;5;28;01mreturn\u001B[39;00m \u001B[43mrequest\u001B[49m\u001B[43m(\u001B[49m\u001B[38;5;124;43m'\u001B[39;49m\u001B[38;5;124;43mget\u001B[39;49m\u001B[38;5;124;43m'\u001B[39;49m\u001B[43m,\u001B[49m\u001B[43m \u001B[49m\u001B[43murl\u001B[49m\u001B[43m,\u001B[49m\u001B[43m \u001B[49m\u001B[43mparams\u001B[49m\u001B[38;5;241;43m=\u001B[39;49m\u001B[43mparams\u001B[49m\u001B[43m,\u001B[49m\u001B[43m \u001B[49m\u001B[38;5;241;43m*\u001B[39;49m\u001B[38;5;241;43m*\u001B[39;49m\u001B[43mkwargs\u001B[49m\u001B[43m)\u001B[49m\n",
      "File \u001B[0;32m~/PycharmProjects/invest_project/venv/lib/python3.10/site-packages/requests/api.py:61\u001B[0m, in \u001B[0;36mrequest\u001B[0;34m(method, url, **kwargs)\u001B[0m\n\u001B[1;32m     57\u001B[0m \u001B[38;5;66;03m# By using the 'with' statement we are sure the session is closed, thus we\u001B[39;00m\n\u001B[1;32m     58\u001B[0m \u001B[38;5;66;03m# avoid leaving sockets open which can trigger a ResourceWarning in some\u001B[39;00m\n\u001B[1;32m     59\u001B[0m \u001B[38;5;66;03m# cases, and look like a memory leak in others.\u001B[39;00m\n\u001B[1;32m     60\u001B[0m \u001B[38;5;28;01mwith\u001B[39;00m sessions\u001B[38;5;241m.\u001B[39mSession() \u001B[38;5;28;01mas\u001B[39;00m session:\n\u001B[0;32m---> 61\u001B[0m     \u001B[38;5;28;01mreturn\u001B[39;00m \u001B[43msession\u001B[49m\u001B[38;5;241;43m.\u001B[39;49m\u001B[43mrequest\u001B[49m\u001B[43m(\u001B[49m\u001B[43mmethod\u001B[49m\u001B[38;5;241;43m=\u001B[39;49m\u001B[43mmethod\u001B[49m\u001B[43m,\u001B[49m\u001B[43m \u001B[49m\u001B[43murl\u001B[49m\u001B[38;5;241;43m=\u001B[39;49m\u001B[43murl\u001B[49m\u001B[43m,\u001B[49m\u001B[43m \u001B[49m\u001B[38;5;241;43m*\u001B[39;49m\u001B[38;5;241;43m*\u001B[39;49m\u001B[43mkwargs\u001B[49m\u001B[43m)\u001B[49m\n",
      "File \u001B[0;32m~/PycharmProjects/invest_project/venv/lib/python3.10/site-packages/requests/sessions.py:529\u001B[0m, in \u001B[0;36mSession.request\u001B[0;34m(self, method, url, params, data, headers, cookies, files, auth, timeout, allow_redirects, proxies, hooks, stream, verify, cert, json)\u001B[0m\n\u001B[1;32m    524\u001B[0m send_kwargs \u001B[38;5;241m=\u001B[39m {\n\u001B[1;32m    525\u001B[0m     \u001B[38;5;124m'\u001B[39m\u001B[38;5;124mtimeout\u001B[39m\u001B[38;5;124m'\u001B[39m: timeout,\n\u001B[1;32m    526\u001B[0m     \u001B[38;5;124m'\u001B[39m\u001B[38;5;124mallow_redirects\u001B[39m\u001B[38;5;124m'\u001B[39m: allow_redirects,\n\u001B[1;32m    527\u001B[0m }\n\u001B[1;32m    528\u001B[0m send_kwargs\u001B[38;5;241m.\u001B[39mupdate(settings)\n\u001B[0;32m--> 529\u001B[0m resp \u001B[38;5;241m=\u001B[39m \u001B[38;5;28;43mself\u001B[39;49m\u001B[38;5;241;43m.\u001B[39;49m\u001B[43msend\u001B[49m\u001B[43m(\u001B[49m\u001B[43mprep\u001B[49m\u001B[43m,\u001B[49m\u001B[43m \u001B[49m\u001B[38;5;241;43m*\u001B[39;49m\u001B[38;5;241;43m*\u001B[39;49m\u001B[43msend_kwargs\u001B[49m\u001B[43m)\u001B[49m\n\u001B[1;32m    531\u001B[0m \u001B[38;5;28;01mreturn\u001B[39;00m resp\n",
      "File \u001B[0;32m~/PycharmProjects/invest_project/venv/lib/python3.10/site-packages/requests/sessions.py:645\u001B[0m, in \u001B[0;36mSession.send\u001B[0;34m(self, request, **kwargs)\u001B[0m\n\u001B[1;32m    642\u001B[0m start \u001B[38;5;241m=\u001B[39m preferred_clock()\n\u001B[1;32m    644\u001B[0m \u001B[38;5;66;03m# Send the request\u001B[39;00m\n\u001B[0;32m--> 645\u001B[0m r \u001B[38;5;241m=\u001B[39m \u001B[43madapter\u001B[49m\u001B[38;5;241;43m.\u001B[39;49m\u001B[43msend\u001B[49m\u001B[43m(\u001B[49m\u001B[43mrequest\u001B[49m\u001B[43m,\u001B[49m\u001B[43m \u001B[49m\u001B[38;5;241;43m*\u001B[39;49m\u001B[38;5;241;43m*\u001B[39;49m\u001B[43mkwargs\u001B[49m\u001B[43m)\u001B[49m\n\u001B[1;32m    647\u001B[0m \u001B[38;5;66;03m# Total elapsed time of the request (approximately)\u001B[39;00m\n\u001B[1;32m    648\u001B[0m elapsed \u001B[38;5;241m=\u001B[39m preferred_clock() \u001B[38;5;241m-\u001B[39m start\n",
      "File \u001B[0;32m~/PycharmProjects/invest_project/venv/lib/python3.10/site-packages/requests/adapters.py:440\u001B[0m, in \u001B[0;36mHTTPAdapter.send\u001B[0;34m(self, request, stream, timeout, verify, cert, proxies)\u001B[0m\n\u001B[1;32m    438\u001B[0m \u001B[38;5;28;01mtry\u001B[39;00m:\n\u001B[1;32m    439\u001B[0m     \u001B[38;5;28;01mif\u001B[39;00m \u001B[38;5;129;01mnot\u001B[39;00m chunked:\n\u001B[0;32m--> 440\u001B[0m         resp \u001B[38;5;241m=\u001B[39m \u001B[43mconn\u001B[49m\u001B[38;5;241;43m.\u001B[39;49m\u001B[43murlopen\u001B[49m\u001B[43m(\u001B[49m\n\u001B[1;32m    441\u001B[0m \u001B[43m            \u001B[49m\u001B[43mmethod\u001B[49m\u001B[38;5;241;43m=\u001B[39;49m\u001B[43mrequest\u001B[49m\u001B[38;5;241;43m.\u001B[39;49m\u001B[43mmethod\u001B[49m\u001B[43m,\u001B[49m\n\u001B[1;32m    442\u001B[0m \u001B[43m            \u001B[49m\u001B[43murl\u001B[49m\u001B[38;5;241;43m=\u001B[39;49m\u001B[43murl\u001B[49m\u001B[43m,\u001B[49m\n\u001B[1;32m    443\u001B[0m \u001B[43m            \u001B[49m\u001B[43mbody\u001B[49m\u001B[38;5;241;43m=\u001B[39;49m\u001B[43mrequest\u001B[49m\u001B[38;5;241;43m.\u001B[39;49m\u001B[43mbody\u001B[49m\u001B[43m,\u001B[49m\n\u001B[1;32m    444\u001B[0m \u001B[43m            \u001B[49m\u001B[43mheaders\u001B[49m\u001B[38;5;241;43m=\u001B[39;49m\u001B[43mrequest\u001B[49m\u001B[38;5;241;43m.\u001B[39;49m\u001B[43mheaders\u001B[49m\u001B[43m,\u001B[49m\n\u001B[1;32m    445\u001B[0m \u001B[43m            \u001B[49m\u001B[43mredirect\u001B[49m\u001B[38;5;241;43m=\u001B[39;49m\u001B[38;5;28;43;01mFalse\u001B[39;49;00m\u001B[43m,\u001B[49m\n\u001B[1;32m    446\u001B[0m \u001B[43m            \u001B[49m\u001B[43massert_same_host\u001B[49m\u001B[38;5;241;43m=\u001B[39;49m\u001B[38;5;28;43;01mFalse\u001B[39;49;00m\u001B[43m,\u001B[49m\n\u001B[1;32m    447\u001B[0m \u001B[43m            \u001B[49m\u001B[43mpreload_content\u001B[49m\u001B[38;5;241;43m=\u001B[39;49m\u001B[38;5;28;43;01mFalse\u001B[39;49;00m\u001B[43m,\u001B[49m\n\u001B[1;32m    448\u001B[0m \u001B[43m            \u001B[49m\u001B[43mdecode_content\u001B[49m\u001B[38;5;241;43m=\u001B[39;49m\u001B[38;5;28;43;01mFalse\u001B[39;49;00m\u001B[43m,\u001B[49m\n\u001B[1;32m    449\u001B[0m \u001B[43m            \u001B[49m\u001B[43mretries\u001B[49m\u001B[38;5;241;43m=\u001B[39;49m\u001B[38;5;28;43mself\u001B[39;49m\u001B[38;5;241;43m.\u001B[39;49m\u001B[43mmax_retries\u001B[49m\u001B[43m,\u001B[49m\n\u001B[1;32m    450\u001B[0m \u001B[43m            \u001B[49m\u001B[43mtimeout\u001B[49m\u001B[38;5;241;43m=\u001B[39;49m\u001B[43mtimeout\u001B[49m\n\u001B[1;32m    451\u001B[0m \u001B[43m        \u001B[49m\u001B[43m)\u001B[49m\n\u001B[1;32m    453\u001B[0m     \u001B[38;5;66;03m# Send the request.\u001B[39;00m\n\u001B[1;32m    454\u001B[0m     \u001B[38;5;28;01melse\u001B[39;00m:\n\u001B[1;32m    455\u001B[0m         \u001B[38;5;28;01mif\u001B[39;00m \u001B[38;5;28mhasattr\u001B[39m(conn, \u001B[38;5;124m'\u001B[39m\u001B[38;5;124mproxy_pool\u001B[39m\u001B[38;5;124m'\u001B[39m):\n",
      "File \u001B[0;32m~/PycharmProjects/invest_project/venv/lib/python3.10/site-packages/urllib3/connectionpool.py:703\u001B[0m, in \u001B[0;36mHTTPConnectionPool.urlopen\u001B[0;34m(self, method, url, body, headers, retries, redirect, assert_same_host, timeout, pool_timeout, release_conn, chunked, body_pos, **response_kw)\u001B[0m\n\u001B[1;32m    700\u001B[0m     \u001B[38;5;28mself\u001B[39m\u001B[38;5;241m.\u001B[39m_prepare_proxy(conn)\n\u001B[1;32m    702\u001B[0m \u001B[38;5;66;03m# Make the request on the httplib connection object.\u001B[39;00m\n\u001B[0;32m--> 703\u001B[0m httplib_response \u001B[38;5;241m=\u001B[39m \u001B[38;5;28;43mself\u001B[39;49m\u001B[38;5;241;43m.\u001B[39;49m\u001B[43m_make_request\u001B[49m\u001B[43m(\u001B[49m\n\u001B[1;32m    704\u001B[0m \u001B[43m    \u001B[49m\u001B[43mconn\u001B[49m\u001B[43m,\u001B[49m\n\u001B[1;32m    705\u001B[0m \u001B[43m    \u001B[49m\u001B[43mmethod\u001B[49m\u001B[43m,\u001B[49m\n\u001B[1;32m    706\u001B[0m \u001B[43m    \u001B[49m\u001B[43murl\u001B[49m\u001B[43m,\u001B[49m\n\u001B[1;32m    707\u001B[0m \u001B[43m    \u001B[49m\u001B[43mtimeout\u001B[49m\u001B[38;5;241;43m=\u001B[39;49m\u001B[43mtimeout_obj\u001B[49m\u001B[43m,\u001B[49m\n\u001B[1;32m    708\u001B[0m \u001B[43m    \u001B[49m\u001B[43mbody\u001B[49m\u001B[38;5;241;43m=\u001B[39;49m\u001B[43mbody\u001B[49m\u001B[43m,\u001B[49m\n\u001B[1;32m    709\u001B[0m \u001B[43m    \u001B[49m\u001B[43mheaders\u001B[49m\u001B[38;5;241;43m=\u001B[39;49m\u001B[43mheaders\u001B[49m\u001B[43m,\u001B[49m\n\u001B[1;32m    710\u001B[0m \u001B[43m    \u001B[49m\u001B[43mchunked\u001B[49m\u001B[38;5;241;43m=\u001B[39;49m\u001B[43mchunked\u001B[49m\u001B[43m,\u001B[49m\n\u001B[1;32m    711\u001B[0m \u001B[43m\u001B[49m\u001B[43m)\u001B[49m\n\u001B[1;32m    713\u001B[0m \u001B[38;5;66;03m# If we're going to release the connection in ``finally:``, then\u001B[39;00m\n\u001B[1;32m    714\u001B[0m \u001B[38;5;66;03m# the response doesn't need to know about the connection. Otherwise\u001B[39;00m\n\u001B[1;32m    715\u001B[0m \u001B[38;5;66;03m# it will also try to release it and we'll have a double-release\u001B[39;00m\n\u001B[1;32m    716\u001B[0m \u001B[38;5;66;03m# mess.\u001B[39;00m\n\u001B[1;32m    717\u001B[0m response_conn \u001B[38;5;241m=\u001B[39m conn \u001B[38;5;28;01mif\u001B[39;00m \u001B[38;5;129;01mnot\u001B[39;00m release_conn \u001B[38;5;28;01melse\u001B[39;00m \u001B[38;5;28;01mNone\u001B[39;00m\n",
      "File \u001B[0;32m~/PycharmProjects/invest_project/venv/lib/python3.10/site-packages/urllib3/connectionpool.py:386\u001B[0m, in \u001B[0;36mHTTPConnectionPool._make_request\u001B[0;34m(self, conn, method, url, timeout, chunked, **httplib_request_kw)\u001B[0m\n\u001B[1;32m    384\u001B[0m \u001B[38;5;66;03m# Trigger any extra validation we need to do.\u001B[39;00m\n\u001B[1;32m    385\u001B[0m \u001B[38;5;28;01mtry\u001B[39;00m:\n\u001B[0;32m--> 386\u001B[0m     \u001B[38;5;28;43mself\u001B[39;49m\u001B[38;5;241;43m.\u001B[39;49m\u001B[43m_validate_conn\u001B[49m\u001B[43m(\u001B[49m\u001B[43mconn\u001B[49m\u001B[43m)\u001B[49m\n\u001B[1;32m    387\u001B[0m \u001B[38;5;28;01mexcept\u001B[39;00m (SocketTimeout, BaseSSLError) \u001B[38;5;28;01mas\u001B[39;00m e:\n\u001B[1;32m    388\u001B[0m     \u001B[38;5;66;03m# Py2 raises this as a BaseSSLError, Py3 raises it as socket timeout.\u001B[39;00m\n\u001B[1;32m    389\u001B[0m     \u001B[38;5;28mself\u001B[39m\u001B[38;5;241m.\u001B[39m_raise_timeout(err\u001B[38;5;241m=\u001B[39me, url\u001B[38;5;241m=\u001B[39murl, timeout_value\u001B[38;5;241m=\u001B[39mconn\u001B[38;5;241m.\u001B[39mtimeout)\n",
      "File \u001B[0;32m~/PycharmProjects/invest_project/venv/lib/python3.10/site-packages/urllib3/connectionpool.py:1040\u001B[0m, in \u001B[0;36mHTTPSConnectionPool._validate_conn\u001B[0;34m(self, conn)\u001B[0m\n\u001B[1;32m   1038\u001B[0m \u001B[38;5;66;03m# Force connect early to allow us to validate the connection.\u001B[39;00m\n\u001B[1;32m   1039\u001B[0m \u001B[38;5;28;01mif\u001B[39;00m \u001B[38;5;129;01mnot\u001B[39;00m \u001B[38;5;28mgetattr\u001B[39m(conn, \u001B[38;5;124m\"\u001B[39m\u001B[38;5;124msock\u001B[39m\u001B[38;5;124m\"\u001B[39m, \u001B[38;5;28;01mNone\u001B[39;00m):  \u001B[38;5;66;03m# AppEngine might not have  `.sock`\u001B[39;00m\n\u001B[0;32m-> 1040\u001B[0m     \u001B[43mconn\u001B[49m\u001B[38;5;241;43m.\u001B[39;49m\u001B[43mconnect\u001B[49m\u001B[43m(\u001B[49m\u001B[43m)\u001B[49m\n\u001B[1;32m   1042\u001B[0m \u001B[38;5;28;01mif\u001B[39;00m \u001B[38;5;129;01mnot\u001B[39;00m conn\u001B[38;5;241m.\u001B[39mis_verified:\n\u001B[1;32m   1043\u001B[0m     warnings\u001B[38;5;241m.\u001B[39mwarn(\n\u001B[1;32m   1044\u001B[0m         (\n\u001B[1;32m   1045\u001B[0m             \u001B[38;5;124m\"\u001B[39m\u001B[38;5;124mUnverified HTTPS request is being made to host \u001B[39m\u001B[38;5;124m'\u001B[39m\u001B[38;5;132;01m%s\u001B[39;00m\u001B[38;5;124m'\u001B[39m\u001B[38;5;124m. \u001B[39m\u001B[38;5;124m\"\u001B[39m\n\u001B[0;32m   (...)\u001B[0m\n\u001B[1;32m   1050\u001B[0m         InsecureRequestWarning,\n\u001B[1;32m   1051\u001B[0m     )\n",
      "File \u001B[0;32m~/PycharmProjects/invest_project/venv/lib/python3.10/site-packages/urllib3/connection.py:358\u001B[0m, in \u001B[0;36mHTTPSConnection.connect\u001B[0;34m(self)\u001B[0m\n\u001B[1;32m    356\u001B[0m \u001B[38;5;28;01mdef\u001B[39;00m \u001B[38;5;21mconnect\u001B[39m(\u001B[38;5;28mself\u001B[39m):\n\u001B[1;32m    357\u001B[0m     \u001B[38;5;66;03m# Add certificate verification\u001B[39;00m\n\u001B[0;32m--> 358\u001B[0m     \u001B[38;5;28mself\u001B[39m\u001B[38;5;241m.\u001B[39msock \u001B[38;5;241m=\u001B[39m conn \u001B[38;5;241m=\u001B[39m \u001B[38;5;28;43mself\u001B[39;49m\u001B[38;5;241;43m.\u001B[39;49m\u001B[43m_new_conn\u001B[49m\u001B[43m(\u001B[49m\u001B[43m)\u001B[49m\n\u001B[1;32m    359\u001B[0m     hostname \u001B[38;5;241m=\u001B[39m \u001B[38;5;28mself\u001B[39m\u001B[38;5;241m.\u001B[39mhost\n\u001B[1;32m    360\u001B[0m     tls_in_tls \u001B[38;5;241m=\u001B[39m \u001B[38;5;28;01mFalse\u001B[39;00m\n",
      "File \u001B[0;32m~/PycharmProjects/invest_project/venv/lib/python3.10/site-packages/urllib3/connection.py:174\u001B[0m, in \u001B[0;36mHTTPConnection._new_conn\u001B[0;34m(self)\u001B[0m\n\u001B[1;32m    171\u001B[0m     extra_kw[\u001B[38;5;124m\"\u001B[39m\u001B[38;5;124msocket_options\u001B[39m\u001B[38;5;124m\"\u001B[39m] \u001B[38;5;241m=\u001B[39m \u001B[38;5;28mself\u001B[39m\u001B[38;5;241m.\u001B[39msocket_options\n\u001B[1;32m    173\u001B[0m \u001B[38;5;28;01mtry\u001B[39;00m:\n\u001B[0;32m--> 174\u001B[0m     conn \u001B[38;5;241m=\u001B[39m \u001B[43mconnection\u001B[49m\u001B[38;5;241;43m.\u001B[39;49m\u001B[43mcreate_connection\u001B[49m\u001B[43m(\u001B[49m\n\u001B[1;32m    175\u001B[0m \u001B[43m        \u001B[49m\u001B[43m(\u001B[49m\u001B[38;5;28;43mself\u001B[39;49m\u001B[38;5;241;43m.\u001B[39;49m\u001B[43m_dns_host\u001B[49m\u001B[43m,\u001B[49m\u001B[43m \u001B[49m\u001B[38;5;28;43mself\u001B[39;49m\u001B[38;5;241;43m.\u001B[39;49m\u001B[43mport\u001B[49m\u001B[43m)\u001B[49m\u001B[43m,\u001B[49m\u001B[43m \u001B[49m\u001B[38;5;28;43mself\u001B[39;49m\u001B[38;5;241;43m.\u001B[39;49m\u001B[43mtimeout\u001B[49m\u001B[43m,\u001B[49m\u001B[43m \u001B[49m\u001B[38;5;241;43m*\u001B[39;49m\u001B[38;5;241;43m*\u001B[39;49m\u001B[43mextra_kw\u001B[49m\n\u001B[1;32m    176\u001B[0m \u001B[43m    \u001B[49m\u001B[43m)\u001B[49m\n\u001B[1;32m    178\u001B[0m \u001B[38;5;28;01mexcept\u001B[39;00m SocketTimeout:\n\u001B[1;32m    179\u001B[0m     \u001B[38;5;28;01mraise\u001B[39;00m ConnectTimeoutError(\n\u001B[1;32m    180\u001B[0m         \u001B[38;5;28mself\u001B[39m,\n\u001B[1;32m    181\u001B[0m         \u001B[38;5;124m\"\u001B[39m\u001B[38;5;124mConnection to \u001B[39m\u001B[38;5;132;01m%s\u001B[39;00m\u001B[38;5;124m timed out. (connect timeout=\u001B[39m\u001B[38;5;132;01m%s\u001B[39;00m\u001B[38;5;124m)\u001B[39m\u001B[38;5;124m\"\u001B[39m\n\u001B[1;32m    182\u001B[0m         \u001B[38;5;241m%\u001B[39m (\u001B[38;5;28mself\u001B[39m\u001B[38;5;241m.\u001B[39mhost, \u001B[38;5;28mself\u001B[39m\u001B[38;5;241m.\u001B[39mtimeout),\n\u001B[1;32m    183\u001B[0m     )\n",
      "File \u001B[0;32m~/PycharmProjects/invest_project/venv/lib/python3.10/site-packages/urllib3/util/connection.py:85\u001B[0m, in \u001B[0;36mcreate_connection\u001B[0;34m(address, timeout, source_address, socket_options)\u001B[0m\n\u001B[1;32m     83\u001B[0m     \u001B[38;5;28;01mif\u001B[39;00m source_address:\n\u001B[1;32m     84\u001B[0m         sock\u001B[38;5;241m.\u001B[39mbind(source_address)\n\u001B[0;32m---> 85\u001B[0m     \u001B[43msock\u001B[49m\u001B[38;5;241;43m.\u001B[39;49m\u001B[43mconnect\u001B[49m\u001B[43m(\u001B[49m\u001B[43msa\u001B[49m\u001B[43m)\u001B[49m\n\u001B[1;32m     86\u001B[0m     \u001B[38;5;28;01mreturn\u001B[39;00m sock\n\u001B[1;32m     88\u001B[0m \u001B[38;5;28;01mexcept\u001B[39;00m socket\u001B[38;5;241m.\u001B[39merror \u001B[38;5;28;01mas\u001B[39;00m e:\n",
      "\u001B[0;31mKeyboardInterrupt\u001B[0m: "
     ]
    }
   ],
   "source": [
    "start = '2022-06-13'\n",
    "end = '2022-06-19'\n",
    "dbu.update_daily_price(start, end)"
   ],
   "metadata": {
    "collapsed": false,
    "pycharm": {
     "name": "#%%\n"
    }
   }
  },
  {
   "cell_type": "markdown",
   "source": [
    "- KRX에서 **시가총액**, **상장주식수** 가져와서 업데이트"
   ],
   "metadata": {
    "collapsed": false,
    "pycharm": {
     "name": "#%% md\n"
    }
   }
  },
  {
   "cell_type": "code",
   "execution_count": 4,
   "outputs": [
    {
     "name": "stdout",
     "output_type": "stream",
     "text": [
      "[2022-06-13] Update mktcap and list_shrs in daily price Successfully!\n",
      "[2022-06-14] Update mktcap and list_shrs in daily price Successfully!\n",
      "[2022-06-15] Update mktcap and list_shrs in daily price Successfully!\n",
      "[2022-06-16] Update mktcap and list_shrs in daily price Successfully!\n",
      "[2022-06-17] Update mktcap and list_shrs in daily price Successfully!\n"
     ]
    }
   ],
   "source": [
    "dbu.replace_into_daily_price_db_extra_data(start, end)"
   ],
   "metadata": {
    "collapsed": false,
    "pycharm": {
     "name": "#%%\n"
    }
   }
  },
  {
   "cell_type": "markdown",
   "source": [
    "## 분기시세 정보 가져오기"
   ],
   "metadata": {
    "collapsed": false,
    "pycharm": {
     "name": "#%% md\n"
    }
   }
  },
  {
   "cell_type": "code",
   "execution_count": 3,
   "outputs": [],
   "source": [
    "data = GetData()"
   ],
   "metadata": {
    "collapsed": false,
    "pycharm": {
     "name": "#%%\n"
    }
   }
  },
  {
   "cell_type": "code",
   "execution_count": 4,
   "outputs": [
    {
     "name": "stderr",
     "output_type": "stream",
     "text": [
      "/Users/miseong/PycharmProjects/invest_project/GetData.py:89: SettingWithCopyWarning: \n",
      "A value is trying to be set on a copy of a slice from a DataFrame\n",
      "\n",
      "See the caveats in the documentation: https://pandas.pydata.org/pandas-docs/stable/user_guide/indexing.html#returning-a-view-versus-a-copy\n",
      "  df_ohlc['open'][i] = float(df[df['code'] == df_ohlc['code'][i]].head(1)['open'])  # 분기별 시가\n",
      "/Users/miseong/PycharmProjects/invest_project/GetData.py:90: SettingWithCopyWarning: \n",
      "A value is trying to be set on a copy of a slice from a DataFrame\n",
      "\n",
      "See the caveats in the documentation: https://pandas.pydata.org/pandas-docs/stable/user_guide/indexing.html#returning-a-view-versus-a-copy\n",
      "  df_ohlc['close'][i] = float(df[df['code'] == df_ohlc['code'][i]].tail(1)['close'])  # 분기별 종가\n",
      "/Users/miseong/PycharmProjects/invest_project/GetData.py:91: SettingWithCopyWarning: \n",
      "A value is trying to be set on a copy of a slice from a DataFrame\n",
      "\n",
      "See the caveats in the documentation: https://pandas.pydata.org/pandas-docs/stable/user_guide/indexing.html#returning-a-view-versus-a-copy\n",
      "  df_ohlc['volume'][i] = float(df[df['code'] == df_ohlc['code'][i]].tail(1)['volume'])  # 분기별 거래량\n",
      "/Users/miseong/PycharmProjects/invest_project/GetData.py:92: SettingWithCopyWarning: \n",
      "A value is trying to be set on a copy of a slice from a DataFrame\n",
      "\n",
      "See the caveats in the documentation: https://pandas.pydata.org/pandas-docs/stable/user_guide/indexing.html#returning-a-view-versus-a-copy\n",
      "  df_ohlc['mktcap'][i] = float(df[df['code'] == df_ohlc['code'][i]].tail(1)['mktcap'])  # 분기별 시가총액\n",
      "/Users/miseong/PycharmProjects/invest_project/GetData.py:93: SettingWithCopyWarning: \n",
      "A value is trying to be set on a copy of a slice from a DataFrame\n",
      "\n",
      "See the caveats in the documentation: https://pandas.pydata.org/pandas-docs/stable/user_guide/indexing.html#returning-a-view-versus-a-copy\n",
      "  df_ohlc['list_shrs'][i] = float(\n"
     ]
    },
    {
     "data": {
      "text/plain": "        code   period     open     high      low    close    volume  \\\n0     000020  2022/03  14950.0  14950.0  11250.0  13650.0  214548.0   \n1     000040  2022/03    876.0    917.0    736.0    889.0  417614.0   \n2     000050  2022/03  13750.0  15950.0  13700.0  15950.0   42169.0   \n3     000060  2022/03  34500.0  52800.0  34500.0  47450.0  298202.0   \n4     000070  2022/03  97300.0  98500.0  80000.0  86100.0   13667.0   \n...      ...      ...      ...      ...      ...      ...       ...   \n2481  950170  2022/03   4045.0   4625.0   2790.0   4585.0   63761.0   \n2482  950190  2022/03  22800.0  22800.0  17150.0  20300.0   45327.0   \n2483  950200  2022/03   8880.0   9020.0   6630.0   7290.0   23924.0   \n2484  950210  2022/03  21300.0  21300.0  13300.0  20300.0  511003.0   \n2485  950220  2022/03  10850.0  10850.0   6240.0   7270.0  299156.0   \n\n            mktcap    list_shrs  \n0     3.812646e+11   27931470.0  \n1     8.546612e+10   96137368.0  \n2     4.372736e+11   27415270.0  \n3     5.723656e+12  120625000.0  \n4     7.373837e+11    8564271.0  \n...            ...          ...  \n2481  1.605003e+11   35005517.0  \n2482  2.756718e+11   13579892.0  \n2483  1.394836e+11   19133553.0  \n2484  1.219952e+12   60096155.0  \n2485  7.178508e+11   98741510.0  \n\n[2486 rows x 9 columns]",
      "text/html": "<div>\n<style scoped>\n    .dataframe tbody tr th:only-of-type {\n        vertical-align: middle;\n    }\n\n    .dataframe tbody tr th {\n        vertical-align: top;\n    }\n\n    .dataframe thead th {\n        text-align: right;\n    }\n</style>\n<table border=\"1\" class=\"dataframe\">\n  <thead>\n    <tr style=\"text-align: right;\">\n      <th></th>\n      <th>code</th>\n      <th>period</th>\n      <th>open</th>\n      <th>high</th>\n      <th>low</th>\n      <th>close</th>\n      <th>volume</th>\n      <th>mktcap</th>\n      <th>list_shrs</th>\n    </tr>\n  </thead>\n  <tbody>\n    <tr>\n      <th>0</th>\n      <td>000020</td>\n      <td>2022/03</td>\n      <td>14950.0</td>\n      <td>14950.0</td>\n      <td>11250.0</td>\n      <td>13650.0</td>\n      <td>214548.0</td>\n      <td>3.812646e+11</td>\n      <td>27931470.0</td>\n    </tr>\n    <tr>\n      <th>1</th>\n      <td>000040</td>\n      <td>2022/03</td>\n      <td>876.0</td>\n      <td>917.0</td>\n      <td>736.0</td>\n      <td>889.0</td>\n      <td>417614.0</td>\n      <td>8.546612e+10</td>\n      <td>96137368.0</td>\n    </tr>\n    <tr>\n      <th>2</th>\n      <td>000050</td>\n      <td>2022/03</td>\n      <td>13750.0</td>\n      <td>15950.0</td>\n      <td>13700.0</td>\n      <td>15950.0</td>\n      <td>42169.0</td>\n      <td>4.372736e+11</td>\n      <td>27415270.0</td>\n    </tr>\n    <tr>\n      <th>3</th>\n      <td>000060</td>\n      <td>2022/03</td>\n      <td>34500.0</td>\n      <td>52800.0</td>\n      <td>34500.0</td>\n      <td>47450.0</td>\n      <td>298202.0</td>\n      <td>5.723656e+12</td>\n      <td>120625000.0</td>\n    </tr>\n    <tr>\n      <th>4</th>\n      <td>000070</td>\n      <td>2022/03</td>\n      <td>97300.0</td>\n      <td>98500.0</td>\n      <td>80000.0</td>\n      <td>86100.0</td>\n      <td>13667.0</td>\n      <td>7.373837e+11</td>\n      <td>8564271.0</td>\n    </tr>\n    <tr>\n      <th>...</th>\n      <td>...</td>\n      <td>...</td>\n      <td>...</td>\n      <td>...</td>\n      <td>...</td>\n      <td>...</td>\n      <td>...</td>\n      <td>...</td>\n      <td>...</td>\n    </tr>\n    <tr>\n      <th>2481</th>\n      <td>950170</td>\n      <td>2022/03</td>\n      <td>4045.0</td>\n      <td>4625.0</td>\n      <td>2790.0</td>\n      <td>4585.0</td>\n      <td>63761.0</td>\n      <td>1.605003e+11</td>\n      <td>35005517.0</td>\n    </tr>\n    <tr>\n      <th>2482</th>\n      <td>950190</td>\n      <td>2022/03</td>\n      <td>22800.0</td>\n      <td>22800.0</td>\n      <td>17150.0</td>\n      <td>20300.0</td>\n      <td>45327.0</td>\n      <td>2.756718e+11</td>\n      <td>13579892.0</td>\n    </tr>\n    <tr>\n      <th>2483</th>\n      <td>950200</td>\n      <td>2022/03</td>\n      <td>8880.0</td>\n      <td>9020.0</td>\n      <td>6630.0</td>\n      <td>7290.0</td>\n      <td>23924.0</td>\n      <td>1.394836e+11</td>\n      <td>19133553.0</td>\n    </tr>\n    <tr>\n      <th>2484</th>\n      <td>950210</td>\n      <td>2022/03</td>\n      <td>21300.0</td>\n      <td>21300.0</td>\n      <td>13300.0</td>\n      <td>20300.0</td>\n      <td>511003.0</td>\n      <td>1.219952e+12</td>\n      <td>60096155.0</td>\n    </tr>\n    <tr>\n      <th>2485</th>\n      <td>950220</td>\n      <td>2022/03</td>\n      <td>10850.0</td>\n      <td>10850.0</td>\n      <td>6240.0</td>\n      <td>7270.0</td>\n      <td>299156.0</td>\n      <td>7.178508e+11</td>\n      <td>98741510.0</td>\n    </tr>\n  </tbody>\n</table>\n<p>2486 rows × 9 columns</p>\n</div>"
     },
     "execution_count": 4,
     "metadata": {},
     "output_type": "execute_result"
    }
   ],
   "source": [
    "data.get_price('2022Q1')"
   ],
   "metadata": {
    "collapsed": false,
    "pycharm": {
     "name": "#%%\n"
    }
   }
  },
  {
   "cell_type": "markdown",
   "source": [
    "## 재무 제표 가져오기"
   ],
   "metadata": {
    "collapsed": false,
    "pycharm": {
     "name": "#%% md\n"
    }
   }
  },
  {
   "cell_type": "markdown",
   "source": [
    "- 손익계산서"
   ],
   "metadata": {
    "collapsed": false,
    "pycharm": {
     "name": "#%% md\n"
    }
   }
  },
  {
   "cell_type": "code",
   "execution_count": 5,
   "outputs": [
    {
     "data": {
      "text/plain": "     stock_code   period     매출액    매출원가   매출총이익  판매비와 관리비    영업이익   금융이익  \\\n0        000020  2021/06  758.02  373.89  384.13    312.14   72.00  24.13   \n1        000020  2021/09  690.71  348.19  342.52    305.87   36.65 -11.82   \n2        000020  2021/12  763.17  354.77  408.41    343.28   65.13   4.43   \n3        000020  2022/03  852.94  406.32  446.62    356.09   90.53  12.02   \n4        000040  2021/06  379.92  314.90   65.02     51.63   13.40   0.01   \n...         ...      ...     ...     ...     ...       ...     ...    ...   \n9463     950210  2022/03    0.00    0.00    0.00    129.68 -129.68   7.31   \n9464     950220  2021/06    0.00    0.00    0.00    137.15 -137.15   1.14   \n9465     950220  2021/09    0.00    0.00    0.00    126.51 -126.51   1.44   \n9466     950220  2021/12    0.00    0.00    0.00    147.72 -147.72   1.51   \n9467     950220  2022/03    0.00    0.00    0.00    134.54 -134.54   1.47   \n\n       금융원가  기타수익    기타비용  종속기업,공동지배기업및관계기업관련손익  세전계속사업이익  법인세비용  계속영업이익  \\\n0      0.73  3.91    1.56                 -0.35     97.39  26.99   70.40   \n1      1.27  1.61    1.58                 -0.96     22.62  14.74    7.88   \n2      1.53  6.61    4.13                 -2.12     68.38   5.94   62.44   \n3     19.31  1.34    4.15                 -4.02     76.41  18.40   58.01   \n4     28.09  1.44    0.68                  0.00    -13.93   0.00  -13.93   \n...     ...   ...     ...                   ...       ...    ...     ...   \n9463   5.34  3.67  729.27                  0.00   -853.31   4.00 -857.31   \n9464   0.76  0.00    0.00                  0.00   -136.77   0.27 -137.05   \n9465   0.45  0.09    0.00                  0.00   -125.42   0.50 -125.92   \n9466   6.39  0.07    1.04                  0.00   -153.57  -0.22 -153.35   \n9467  10.30  0.18    0.07                  0.00   -143.26   0.17 -143.43   \n\n      중단영업이익   당기순이익  지배주주순이익  비지배주주순이익        rpt_type  \n0        0.0   70.40    62.66      7.74  Consolidated_Q  \n1        0.0    7.88     4.47      3.41  Consolidated_Q  \n2        0.0   62.44    57.10      5.34  Consolidated_Q  \n3        0.0   58.01    52.37      5.64  Consolidated_Q  \n4        0.0  -13.93   -18.46      4.53  Consolidated_Q  \n...      ...     ...      ...       ...             ...  \n9463     0.0 -857.31  -857.31      0.00  Consolidated_Q  \n9464     0.0 -137.05  -137.05      0.00  Consolidated_Q  \n9465     0.0 -125.92  -125.92      0.00  Consolidated_Q  \n9466     0.0 -153.35  -153.35      0.00  Consolidated_Q  \n9467     0.0 -143.43  -143.43      0.00  Consolidated_Q  \n\n[9468 rows x 20 columns]",
      "text/html": "<div>\n<style scoped>\n    .dataframe tbody tr th:only-of-type {\n        vertical-align: middle;\n    }\n\n    .dataframe tbody tr th {\n        vertical-align: top;\n    }\n\n    .dataframe thead th {\n        text-align: right;\n    }\n</style>\n<table border=\"1\" class=\"dataframe\">\n  <thead>\n    <tr style=\"text-align: right;\">\n      <th></th>\n      <th>stock_code</th>\n      <th>period</th>\n      <th>매출액</th>\n      <th>매출원가</th>\n      <th>매출총이익</th>\n      <th>판매비와 관리비</th>\n      <th>영업이익</th>\n      <th>금융이익</th>\n      <th>금융원가</th>\n      <th>기타수익</th>\n      <th>기타비용</th>\n      <th>종속기업,공동지배기업및관계기업관련손익</th>\n      <th>세전계속사업이익</th>\n      <th>법인세비용</th>\n      <th>계속영업이익</th>\n      <th>중단영업이익</th>\n      <th>당기순이익</th>\n      <th>지배주주순이익</th>\n      <th>비지배주주순이익</th>\n      <th>rpt_type</th>\n    </tr>\n  </thead>\n  <tbody>\n    <tr>\n      <th>0</th>\n      <td>000020</td>\n      <td>2021/06</td>\n      <td>758.02</td>\n      <td>373.89</td>\n      <td>384.13</td>\n      <td>312.14</td>\n      <td>72.00</td>\n      <td>24.13</td>\n      <td>0.73</td>\n      <td>3.91</td>\n      <td>1.56</td>\n      <td>-0.35</td>\n      <td>97.39</td>\n      <td>26.99</td>\n      <td>70.40</td>\n      <td>0.0</td>\n      <td>70.40</td>\n      <td>62.66</td>\n      <td>7.74</td>\n      <td>Consolidated_Q</td>\n    </tr>\n    <tr>\n      <th>1</th>\n      <td>000020</td>\n      <td>2021/09</td>\n      <td>690.71</td>\n      <td>348.19</td>\n      <td>342.52</td>\n      <td>305.87</td>\n      <td>36.65</td>\n      <td>-11.82</td>\n      <td>1.27</td>\n      <td>1.61</td>\n      <td>1.58</td>\n      <td>-0.96</td>\n      <td>22.62</td>\n      <td>14.74</td>\n      <td>7.88</td>\n      <td>0.0</td>\n      <td>7.88</td>\n      <td>4.47</td>\n      <td>3.41</td>\n      <td>Consolidated_Q</td>\n    </tr>\n    <tr>\n      <th>2</th>\n      <td>000020</td>\n      <td>2021/12</td>\n      <td>763.17</td>\n      <td>354.77</td>\n      <td>408.41</td>\n      <td>343.28</td>\n      <td>65.13</td>\n      <td>4.43</td>\n      <td>1.53</td>\n      <td>6.61</td>\n      <td>4.13</td>\n      <td>-2.12</td>\n      <td>68.38</td>\n      <td>5.94</td>\n      <td>62.44</td>\n      <td>0.0</td>\n      <td>62.44</td>\n      <td>57.10</td>\n      <td>5.34</td>\n      <td>Consolidated_Q</td>\n    </tr>\n    <tr>\n      <th>3</th>\n      <td>000020</td>\n      <td>2022/03</td>\n      <td>852.94</td>\n      <td>406.32</td>\n      <td>446.62</td>\n      <td>356.09</td>\n      <td>90.53</td>\n      <td>12.02</td>\n      <td>19.31</td>\n      <td>1.34</td>\n      <td>4.15</td>\n      <td>-4.02</td>\n      <td>76.41</td>\n      <td>18.40</td>\n      <td>58.01</td>\n      <td>0.0</td>\n      <td>58.01</td>\n      <td>52.37</td>\n      <td>5.64</td>\n      <td>Consolidated_Q</td>\n    </tr>\n    <tr>\n      <th>4</th>\n      <td>000040</td>\n      <td>2021/06</td>\n      <td>379.92</td>\n      <td>314.90</td>\n      <td>65.02</td>\n      <td>51.63</td>\n      <td>13.40</td>\n      <td>0.01</td>\n      <td>28.09</td>\n      <td>1.44</td>\n      <td>0.68</td>\n      <td>0.00</td>\n      <td>-13.93</td>\n      <td>0.00</td>\n      <td>-13.93</td>\n      <td>0.0</td>\n      <td>-13.93</td>\n      <td>-18.46</td>\n      <td>4.53</td>\n      <td>Consolidated_Q</td>\n    </tr>\n    <tr>\n      <th>...</th>\n      <td>...</td>\n      <td>...</td>\n      <td>...</td>\n      <td>...</td>\n      <td>...</td>\n      <td>...</td>\n      <td>...</td>\n      <td>...</td>\n      <td>...</td>\n      <td>...</td>\n      <td>...</td>\n      <td>...</td>\n      <td>...</td>\n      <td>...</td>\n      <td>...</td>\n      <td>...</td>\n      <td>...</td>\n      <td>...</td>\n      <td>...</td>\n      <td>...</td>\n    </tr>\n    <tr>\n      <th>9463</th>\n      <td>950210</td>\n      <td>2022/03</td>\n      <td>0.00</td>\n      <td>0.00</td>\n      <td>0.00</td>\n      <td>129.68</td>\n      <td>-129.68</td>\n      <td>7.31</td>\n      <td>5.34</td>\n      <td>3.67</td>\n      <td>729.27</td>\n      <td>0.00</td>\n      <td>-853.31</td>\n      <td>4.00</td>\n      <td>-857.31</td>\n      <td>0.0</td>\n      <td>-857.31</td>\n      <td>-857.31</td>\n      <td>0.00</td>\n      <td>Consolidated_Q</td>\n    </tr>\n    <tr>\n      <th>9464</th>\n      <td>950220</td>\n      <td>2021/06</td>\n      <td>0.00</td>\n      <td>0.00</td>\n      <td>0.00</td>\n      <td>137.15</td>\n      <td>-137.15</td>\n      <td>1.14</td>\n      <td>0.76</td>\n      <td>0.00</td>\n      <td>0.00</td>\n      <td>0.00</td>\n      <td>-136.77</td>\n      <td>0.27</td>\n      <td>-137.05</td>\n      <td>0.0</td>\n      <td>-137.05</td>\n      <td>-137.05</td>\n      <td>0.00</td>\n      <td>Consolidated_Q</td>\n    </tr>\n    <tr>\n      <th>9465</th>\n      <td>950220</td>\n      <td>2021/09</td>\n      <td>0.00</td>\n      <td>0.00</td>\n      <td>0.00</td>\n      <td>126.51</td>\n      <td>-126.51</td>\n      <td>1.44</td>\n      <td>0.45</td>\n      <td>0.09</td>\n      <td>0.00</td>\n      <td>0.00</td>\n      <td>-125.42</td>\n      <td>0.50</td>\n      <td>-125.92</td>\n      <td>0.0</td>\n      <td>-125.92</td>\n      <td>-125.92</td>\n      <td>0.00</td>\n      <td>Consolidated_Q</td>\n    </tr>\n    <tr>\n      <th>9466</th>\n      <td>950220</td>\n      <td>2021/12</td>\n      <td>0.00</td>\n      <td>0.00</td>\n      <td>0.00</td>\n      <td>147.72</td>\n      <td>-147.72</td>\n      <td>1.51</td>\n      <td>6.39</td>\n      <td>0.07</td>\n      <td>1.04</td>\n      <td>0.00</td>\n      <td>-153.57</td>\n      <td>-0.22</td>\n      <td>-153.35</td>\n      <td>0.0</td>\n      <td>-153.35</td>\n      <td>-153.35</td>\n      <td>0.00</td>\n      <td>Consolidated_Q</td>\n    </tr>\n    <tr>\n      <th>9467</th>\n      <td>950220</td>\n      <td>2022/03</td>\n      <td>0.00</td>\n      <td>0.00</td>\n      <td>0.00</td>\n      <td>134.54</td>\n      <td>-134.54</td>\n      <td>1.47</td>\n      <td>10.30</td>\n      <td>0.18</td>\n      <td>0.07</td>\n      <td>0.00</td>\n      <td>-143.26</td>\n      <td>0.17</td>\n      <td>-143.43</td>\n      <td>0.0</td>\n      <td>-143.43</td>\n      <td>-143.43</td>\n      <td>0.00</td>\n      <td>Consolidated_Q</td>\n    </tr>\n  </tbody>\n</table>\n<p>9468 rows × 20 columns</p>\n</div>"
     },
     "execution_count": 5,
     "metadata": {},
     "output_type": "execute_result"
    }
   ],
   "source": [
    "data.get_is()"
   ],
   "metadata": {
    "collapsed": false,
    "pycharm": {
     "name": "#%%\n"
    }
   }
  },
  {
   "cell_type": "markdown",
   "source": [
    "- 재무상태표"
   ],
   "metadata": {
    "collapsed": false,
    "pycharm": {
     "name": "#%% md\n"
    }
   }
  },
  {
   "cell_type": "code",
   "execution_count": 6,
   "outputs": [
    {
     "data": {
      "text/plain": "     stock_code   period       자산     유동자산    비유동자산  기타금융업자산       부채  \\\n0        000020  2021/06  4470.80  2273.63  2197.16      0.0   959.99   \n1        000020  2021/09  4478.73  2179.65  2299.08      0.0   947.32   \n2        000020  2021/12  4478.04  2201.99  2276.06      0.0   876.71   \n3        000020  2022/03  4599.70  2287.41  2312.28      0.0   997.37   \n4        000040  2021/06  1758.66   708.93  1049.73      0.0  1234.35   \n...         ...      ...      ...      ...      ...      ...      ...   \n9588     950210  2022/03  5771.20  3240.98  2530.22      0.0   727.95   \n9589     950220  2021/06  1918.61  1761.33   157.27      0.0   154.94   \n9590     950220  2021/09  1937.83  1772.43   165.40      0.0   193.59   \n9591     950220  2021/12  1870.27  1667.22   203.05      0.0   249.85   \n9592     950220  2022/03  1816.77  1583.49   233.28      0.0   286.57   \n\n         유동부채   비유동부채  기타금융업부채       자본      자본금  신종자본증권    자본잉여금    기타자본  \\\n0      664.07  295.91      0.0  3510.81   279.31     0.0   270.69  -25.21   \n1      641.18  306.14      0.0  3531.40   279.31     0.0   275.45  -19.65   \n2      664.61  212.10      0.0  3601.33   279.31     0.0   275.45  -19.65   \n3      773.74  223.63      0.0  3602.33   279.31     0.0   275.45  -19.65   \n4     1005.80  228.54      0.0   524.32   480.69     0.0    78.77  -75.49   \n...       ...     ...      ...      ...      ...     ...      ...     ...   \n9588   383.84  344.11      0.0  5043.25  6365.51     0.0     0.00  129.35   \n9589   128.89   26.06      0.0  1763.66     0.02     0.0  2576.85   87.26   \n9590   167.05   26.54      0.0  1744.24     0.02     0.0  2702.38  120.77   \n9591   204.11   45.74      0.0  1620.42     0.02     0.0  2712.82  137.19   \n9592   242.89   43.68      0.0  1530.20     0.02     0.0  2776.09  155.32   \n\n      기타포괄손익누계액  이익잉여금(결손금)        rpt_type  \n0         73.22     2790.12  Consolidated_Q  \n1         48.02     2821.82  Consolidated_Q  \n2         30.95     2903.29  Consolidated_Q  \n3         24.10     2905.84  Consolidated_Q  \n4        138.75     -227.53  Consolidated_Q  \n...         ...         ...             ...  \n9588     -23.32    -1428.29  Consolidated_Q  \n9589      -0.02     -900.45  Consolidated_Q  \n9590      -2.58    -1076.35  Consolidated_Q  \n9591      -1.80    -1227.81  Consolidated_Q  \n9592      -3.10    -1398.12  Consolidated_Q  \n\n[9593 rows x 18 columns]",
      "text/html": "<div>\n<style scoped>\n    .dataframe tbody tr th:only-of-type {\n        vertical-align: middle;\n    }\n\n    .dataframe tbody tr th {\n        vertical-align: top;\n    }\n\n    .dataframe thead th {\n        text-align: right;\n    }\n</style>\n<table border=\"1\" class=\"dataframe\">\n  <thead>\n    <tr style=\"text-align: right;\">\n      <th></th>\n      <th>stock_code</th>\n      <th>period</th>\n      <th>자산</th>\n      <th>유동자산</th>\n      <th>비유동자산</th>\n      <th>기타금융업자산</th>\n      <th>부채</th>\n      <th>유동부채</th>\n      <th>비유동부채</th>\n      <th>기타금융업부채</th>\n      <th>자본</th>\n      <th>자본금</th>\n      <th>신종자본증권</th>\n      <th>자본잉여금</th>\n      <th>기타자본</th>\n      <th>기타포괄손익누계액</th>\n      <th>이익잉여금(결손금)</th>\n      <th>rpt_type</th>\n    </tr>\n  </thead>\n  <tbody>\n    <tr>\n      <th>0</th>\n      <td>000020</td>\n      <td>2021/06</td>\n      <td>4470.80</td>\n      <td>2273.63</td>\n      <td>2197.16</td>\n      <td>0.0</td>\n      <td>959.99</td>\n      <td>664.07</td>\n      <td>295.91</td>\n      <td>0.0</td>\n      <td>3510.81</td>\n      <td>279.31</td>\n      <td>0.0</td>\n      <td>270.69</td>\n      <td>-25.21</td>\n      <td>73.22</td>\n      <td>2790.12</td>\n      <td>Consolidated_Q</td>\n    </tr>\n    <tr>\n      <th>1</th>\n      <td>000020</td>\n      <td>2021/09</td>\n      <td>4478.73</td>\n      <td>2179.65</td>\n      <td>2299.08</td>\n      <td>0.0</td>\n      <td>947.32</td>\n      <td>641.18</td>\n      <td>306.14</td>\n      <td>0.0</td>\n      <td>3531.40</td>\n      <td>279.31</td>\n      <td>0.0</td>\n      <td>275.45</td>\n      <td>-19.65</td>\n      <td>48.02</td>\n      <td>2821.82</td>\n      <td>Consolidated_Q</td>\n    </tr>\n    <tr>\n      <th>2</th>\n      <td>000020</td>\n      <td>2021/12</td>\n      <td>4478.04</td>\n      <td>2201.99</td>\n      <td>2276.06</td>\n      <td>0.0</td>\n      <td>876.71</td>\n      <td>664.61</td>\n      <td>212.10</td>\n      <td>0.0</td>\n      <td>3601.33</td>\n      <td>279.31</td>\n      <td>0.0</td>\n      <td>275.45</td>\n      <td>-19.65</td>\n      <td>30.95</td>\n      <td>2903.29</td>\n      <td>Consolidated_Q</td>\n    </tr>\n    <tr>\n      <th>3</th>\n      <td>000020</td>\n      <td>2022/03</td>\n      <td>4599.70</td>\n      <td>2287.41</td>\n      <td>2312.28</td>\n      <td>0.0</td>\n      <td>997.37</td>\n      <td>773.74</td>\n      <td>223.63</td>\n      <td>0.0</td>\n      <td>3602.33</td>\n      <td>279.31</td>\n      <td>0.0</td>\n      <td>275.45</td>\n      <td>-19.65</td>\n      <td>24.10</td>\n      <td>2905.84</td>\n      <td>Consolidated_Q</td>\n    </tr>\n    <tr>\n      <th>4</th>\n      <td>000040</td>\n      <td>2021/06</td>\n      <td>1758.66</td>\n      <td>708.93</td>\n      <td>1049.73</td>\n      <td>0.0</td>\n      <td>1234.35</td>\n      <td>1005.80</td>\n      <td>228.54</td>\n      <td>0.0</td>\n      <td>524.32</td>\n      <td>480.69</td>\n      <td>0.0</td>\n      <td>78.77</td>\n      <td>-75.49</td>\n      <td>138.75</td>\n      <td>-227.53</td>\n      <td>Consolidated_Q</td>\n    </tr>\n    <tr>\n      <th>...</th>\n      <td>...</td>\n      <td>...</td>\n      <td>...</td>\n      <td>...</td>\n      <td>...</td>\n      <td>...</td>\n      <td>...</td>\n      <td>...</td>\n      <td>...</td>\n      <td>...</td>\n      <td>...</td>\n      <td>...</td>\n      <td>...</td>\n      <td>...</td>\n      <td>...</td>\n      <td>...</td>\n      <td>...</td>\n      <td>...</td>\n    </tr>\n    <tr>\n      <th>9588</th>\n      <td>950210</td>\n      <td>2022/03</td>\n      <td>5771.20</td>\n      <td>3240.98</td>\n      <td>2530.22</td>\n      <td>0.0</td>\n      <td>727.95</td>\n      <td>383.84</td>\n      <td>344.11</td>\n      <td>0.0</td>\n      <td>5043.25</td>\n      <td>6365.51</td>\n      <td>0.0</td>\n      <td>0.00</td>\n      <td>129.35</td>\n      <td>-23.32</td>\n      <td>-1428.29</td>\n      <td>Consolidated_Q</td>\n    </tr>\n    <tr>\n      <th>9589</th>\n      <td>950220</td>\n      <td>2021/06</td>\n      <td>1918.61</td>\n      <td>1761.33</td>\n      <td>157.27</td>\n      <td>0.0</td>\n      <td>154.94</td>\n      <td>128.89</td>\n      <td>26.06</td>\n      <td>0.0</td>\n      <td>1763.66</td>\n      <td>0.02</td>\n      <td>0.0</td>\n      <td>2576.85</td>\n      <td>87.26</td>\n      <td>-0.02</td>\n      <td>-900.45</td>\n      <td>Consolidated_Q</td>\n    </tr>\n    <tr>\n      <th>9590</th>\n      <td>950220</td>\n      <td>2021/09</td>\n      <td>1937.83</td>\n      <td>1772.43</td>\n      <td>165.40</td>\n      <td>0.0</td>\n      <td>193.59</td>\n      <td>167.05</td>\n      <td>26.54</td>\n      <td>0.0</td>\n      <td>1744.24</td>\n      <td>0.02</td>\n      <td>0.0</td>\n      <td>2702.38</td>\n      <td>120.77</td>\n      <td>-2.58</td>\n      <td>-1076.35</td>\n      <td>Consolidated_Q</td>\n    </tr>\n    <tr>\n      <th>9591</th>\n      <td>950220</td>\n      <td>2021/12</td>\n      <td>1870.27</td>\n      <td>1667.22</td>\n      <td>203.05</td>\n      <td>0.0</td>\n      <td>249.85</td>\n      <td>204.11</td>\n      <td>45.74</td>\n      <td>0.0</td>\n      <td>1620.42</td>\n      <td>0.02</td>\n      <td>0.0</td>\n      <td>2712.82</td>\n      <td>137.19</td>\n      <td>-1.80</td>\n      <td>-1227.81</td>\n      <td>Consolidated_Q</td>\n    </tr>\n    <tr>\n      <th>9592</th>\n      <td>950220</td>\n      <td>2022/03</td>\n      <td>1816.77</td>\n      <td>1583.49</td>\n      <td>233.28</td>\n      <td>0.0</td>\n      <td>286.57</td>\n      <td>242.89</td>\n      <td>43.68</td>\n      <td>0.0</td>\n      <td>1530.20</td>\n      <td>0.02</td>\n      <td>0.0</td>\n      <td>2776.09</td>\n      <td>155.32</td>\n      <td>-3.10</td>\n      <td>-1398.12</td>\n      <td>Consolidated_Q</td>\n    </tr>\n  </tbody>\n</table>\n<p>9593 rows × 18 columns</p>\n</div>"
     },
     "execution_count": 6,
     "metadata": {},
     "output_type": "execute_result"
    }
   ],
   "source": [
    "data.get_bs()"
   ],
   "metadata": {
    "collapsed": false,
    "pycharm": {
     "name": "#%%\n"
    }
   }
  },
  {
   "cell_type": "markdown",
   "source": [
    "- 현금흐름표"
   ],
   "metadata": {
    "collapsed": false,
    "pycharm": {
     "name": "#%% md\n"
    }
   }
  },
  {
   "cell_type": "code",
   "execution_count": 7,
   "outputs": [
    {
     "data": {
      "text/plain": "     stock_code   period  영업활동으로인한현금흐름   당기순손익  법인세비용차감전계속사업이익  현금유출이없는비용등가산  \\\n0        000020  2021/06         62.97   70.40             0.0         80.30   \n1        000020  2021/09         47.87    7.88             0.0         88.18   \n2        000020  2021/12        160.56   62.44             0.0         70.89   \n3        000020  2022/03        165.72   58.01             0.0        100.77   \n4        000040  2021/06         42.43  -13.93             0.0         36.80   \n...         ...      ...           ...     ...             ...           ...   \n9556     950210  2022/03       -256.78 -859.58             0.0        603.17   \n9557     950220  2021/06        -58.54 -138.21             0.0         80.20   \n9558     950220  2021/09        -87.01 -144.00             0.0         57.55   \n9559     950220  2021/12        -86.49 -151.06             0.0         -7.26   \n9560     950220  2022/03        -99.74 -144.13             0.0         45.20   \n\n      (현금유입이없는수익등차감)  영업활동으로인한자산부채변동(운전자본변동)  *영업에서창출된현금흐름  기타영업활동으로인한현금흐름  \\\n0              24.28                  -35.26         91.16          -28.19   \n1             -12.87                  -30.41         78.53          -30.66   \n2               6.13                   28.73        155.93            4.63   \n3               9.59                   32.12        181.30          -15.58   \n4              -0.38                   25.63         48.88           -6.44   \n...              ...                     ...           ...             ...   \n9556            0.00                    0.00       -256.41           -0.37   \n9557            0.00                    0.00        -58.01           -0.52   \n9558            0.00                    0.00        -86.45           -0.56   \n9559            4.14                   76.82        -85.64           -0.84   \n9560            0.00                    0.00        -98.92           -0.81   \n\n      ...  재무활동으로인한현금유입액  (재무활동으로인한현금유출액)  기타재무활동으로인한현금흐름  영업투자재무활동기타현금흐름  \\\n0     ...           5.00            20.53            0.00            0.00   \n1     ...           0.00             5.63            0.00            0.00   \n2     ...           0.00             3.23            0.00            0.00   \n3     ...           1.00             4.28          -49.82            0.00   \n4     ...          20.60             1.25            0.00            0.02   \n...   ...            ...              ...             ...             ...   \n9556  ...           0.00             4.36            0.00            0.00   \n9557  ...         -37.93             1.86            0.00            0.00   \n9558  ...          53.14             1.67            0.00            0.00   \n9559  ...           7.11             2.86            0.00            0.00   \n9560  ...           3.62             2.94            0.00            0.00   \n\n      연결범위변동으로인한현금의증가  환율변동효과  현금및현금성자산의증가  기초현금및현금성자산  기말현금및현금성자산  \\\n0                 0.0    0.24      -199.75      589.06      389.31   \n1                 0.0    0.12        18.60      389.31      407.92   \n2                 0.0   -0.22       196.88      407.92      604.80   \n3                 0.0    1.03       145.05      604.80      749.85   \n4                 0.0    3.73        40.25      236.52      276.77   \n...               ...     ...          ...         ...         ...   \n9556              0.0   -0.44     -1332.28     3818.17     2530.53   \n9557              0.0    0.14      -107.46     1764.94     1655.19   \n9558              0.0   -0.82       -41.76     1655.19     1649.37   \n9559              0.0   -5.38      -107.26     1649.37     1542.50   \n9560              0.0   -9.14      -118.92     1575.42     1456.50   \n\n            rpt_type  \n0     Consolidated_Q  \n1     Consolidated_Q  \n2     Consolidated_Q  \n3     Consolidated_Q  \n4     Consolidated_Q  \n...              ...  \n9556  Consolidated_Q  \n9557  Consolidated_Q  \n9558  Consolidated_Q  \n9559  Consolidated_Q  \n9560  Consolidated_Q  \n\n[9561 rows x 25 columns]",
      "text/html": "<div>\n<style scoped>\n    .dataframe tbody tr th:only-of-type {\n        vertical-align: middle;\n    }\n\n    .dataframe tbody tr th {\n        vertical-align: top;\n    }\n\n    .dataframe thead th {\n        text-align: right;\n    }\n</style>\n<table border=\"1\" class=\"dataframe\">\n  <thead>\n    <tr style=\"text-align: right;\">\n      <th></th>\n      <th>stock_code</th>\n      <th>period</th>\n      <th>영업활동으로인한현금흐름</th>\n      <th>당기순손익</th>\n      <th>법인세비용차감전계속사업이익</th>\n      <th>현금유출이없는비용등가산</th>\n      <th>(현금유입이없는수익등차감)</th>\n      <th>영업활동으로인한자산부채변동(운전자본변동)</th>\n      <th>*영업에서창출된현금흐름</th>\n      <th>기타영업활동으로인한현금흐름</th>\n      <th>...</th>\n      <th>재무활동으로인한현금유입액</th>\n      <th>(재무활동으로인한현금유출액)</th>\n      <th>기타재무활동으로인한현금흐름</th>\n      <th>영업투자재무활동기타현금흐름</th>\n      <th>연결범위변동으로인한현금의증가</th>\n      <th>환율변동효과</th>\n      <th>현금및현금성자산의증가</th>\n      <th>기초현금및현금성자산</th>\n      <th>기말현금및현금성자산</th>\n      <th>rpt_type</th>\n    </tr>\n  </thead>\n  <tbody>\n    <tr>\n      <th>0</th>\n      <td>000020</td>\n      <td>2021/06</td>\n      <td>62.97</td>\n      <td>70.40</td>\n      <td>0.0</td>\n      <td>80.30</td>\n      <td>24.28</td>\n      <td>-35.26</td>\n      <td>91.16</td>\n      <td>-28.19</td>\n      <td>...</td>\n      <td>5.00</td>\n      <td>20.53</td>\n      <td>0.00</td>\n      <td>0.00</td>\n      <td>0.0</td>\n      <td>0.24</td>\n      <td>-199.75</td>\n      <td>589.06</td>\n      <td>389.31</td>\n      <td>Consolidated_Q</td>\n    </tr>\n    <tr>\n      <th>1</th>\n      <td>000020</td>\n      <td>2021/09</td>\n      <td>47.87</td>\n      <td>7.88</td>\n      <td>0.0</td>\n      <td>88.18</td>\n      <td>-12.87</td>\n      <td>-30.41</td>\n      <td>78.53</td>\n      <td>-30.66</td>\n      <td>...</td>\n      <td>0.00</td>\n      <td>5.63</td>\n      <td>0.00</td>\n      <td>0.00</td>\n      <td>0.0</td>\n      <td>0.12</td>\n      <td>18.60</td>\n      <td>389.31</td>\n      <td>407.92</td>\n      <td>Consolidated_Q</td>\n    </tr>\n    <tr>\n      <th>2</th>\n      <td>000020</td>\n      <td>2021/12</td>\n      <td>160.56</td>\n      <td>62.44</td>\n      <td>0.0</td>\n      <td>70.89</td>\n      <td>6.13</td>\n      <td>28.73</td>\n      <td>155.93</td>\n      <td>4.63</td>\n      <td>...</td>\n      <td>0.00</td>\n      <td>3.23</td>\n      <td>0.00</td>\n      <td>0.00</td>\n      <td>0.0</td>\n      <td>-0.22</td>\n      <td>196.88</td>\n      <td>407.92</td>\n      <td>604.80</td>\n      <td>Consolidated_Q</td>\n    </tr>\n    <tr>\n      <th>3</th>\n      <td>000020</td>\n      <td>2022/03</td>\n      <td>165.72</td>\n      <td>58.01</td>\n      <td>0.0</td>\n      <td>100.77</td>\n      <td>9.59</td>\n      <td>32.12</td>\n      <td>181.30</td>\n      <td>-15.58</td>\n      <td>...</td>\n      <td>1.00</td>\n      <td>4.28</td>\n      <td>-49.82</td>\n      <td>0.00</td>\n      <td>0.0</td>\n      <td>1.03</td>\n      <td>145.05</td>\n      <td>604.80</td>\n      <td>749.85</td>\n      <td>Consolidated_Q</td>\n    </tr>\n    <tr>\n      <th>4</th>\n      <td>000040</td>\n      <td>2021/06</td>\n      <td>42.43</td>\n      <td>-13.93</td>\n      <td>0.0</td>\n      <td>36.80</td>\n      <td>-0.38</td>\n      <td>25.63</td>\n      <td>48.88</td>\n      <td>-6.44</td>\n      <td>...</td>\n      <td>20.60</td>\n      <td>1.25</td>\n      <td>0.00</td>\n      <td>0.02</td>\n      <td>0.0</td>\n      <td>3.73</td>\n      <td>40.25</td>\n      <td>236.52</td>\n      <td>276.77</td>\n      <td>Consolidated_Q</td>\n    </tr>\n    <tr>\n      <th>...</th>\n      <td>...</td>\n      <td>...</td>\n      <td>...</td>\n      <td>...</td>\n      <td>...</td>\n      <td>...</td>\n      <td>...</td>\n      <td>...</td>\n      <td>...</td>\n      <td>...</td>\n      <td>...</td>\n      <td>...</td>\n      <td>...</td>\n      <td>...</td>\n      <td>...</td>\n      <td>...</td>\n      <td>...</td>\n      <td>...</td>\n      <td>...</td>\n      <td>...</td>\n      <td>...</td>\n    </tr>\n    <tr>\n      <th>9556</th>\n      <td>950210</td>\n      <td>2022/03</td>\n      <td>-256.78</td>\n      <td>-859.58</td>\n      <td>0.0</td>\n      <td>603.17</td>\n      <td>0.00</td>\n      <td>0.00</td>\n      <td>-256.41</td>\n      <td>-0.37</td>\n      <td>...</td>\n      <td>0.00</td>\n      <td>4.36</td>\n      <td>0.00</td>\n      <td>0.00</td>\n      <td>0.0</td>\n      <td>-0.44</td>\n      <td>-1332.28</td>\n      <td>3818.17</td>\n      <td>2530.53</td>\n      <td>Consolidated_Q</td>\n    </tr>\n    <tr>\n      <th>9557</th>\n      <td>950220</td>\n      <td>2021/06</td>\n      <td>-58.54</td>\n      <td>-138.21</td>\n      <td>0.0</td>\n      <td>80.20</td>\n      <td>0.00</td>\n      <td>0.00</td>\n      <td>-58.01</td>\n      <td>-0.52</td>\n      <td>...</td>\n      <td>-37.93</td>\n      <td>1.86</td>\n      <td>0.00</td>\n      <td>0.00</td>\n      <td>0.0</td>\n      <td>0.14</td>\n      <td>-107.46</td>\n      <td>1764.94</td>\n      <td>1655.19</td>\n      <td>Consolidated_Q</td>\n    </tr>\n    <tr>\n      <th>9558</th>\n      <td>950220</td>\n      <td>2021/09</td>\n      <td>-87.01</td>\n      <td>-144.00</td>\n      <td>0.0</td>\n      <td>57.55</td>\n      <td>0.00</td>\n      <td>0.00</td>\n      <td>-86.45</td>\n      <td>-0.56</td>\n      <td>...</td>\n      <td>53.14</td>\n      <td>1.67</td>\n      <td>0.00</td>\n      <td>0.00</td>\n      <td>0.0</td>\n      <td>-0.82</td>\n      <td>-41.76</td>\n      <td>1655.19</td>\n      <td>1649.37</td>\n      <td>Consolidated_Q</td>\n    </tr>\n    <tr>\n      <th>9559</th>\n      <td>950220</td>\n      <td>2021/12</td>\n      <td>-86.49</td>\n      <td>-151.06</td>\n      <td>0.0</td>\n      <td>-7.26</td>\n      <td>4.14</td>\n      <td>76.82</td>\n      <td>-85.64</td>\n      <td>-0.84</td>\n      <td>...</td>\n      <td>7.11</td>\n      <td>2.86</td>\n      <td>0.00</td>\n      <td>0.00</td>\n      <td>0.0</td>\n      <td>-5.38</td>\n      <td>-107.26</td>\n      <td>1649.37</td>\n      <td>1542.50</td>\n      <td>Consolidated_Q</td>\n    </tr>\n    <tr>\n      <th>9560</th>\n      <td>950220</td>\n      <td>2022/03</td>\n      <td>-99.74</td>\n      <td>-144.13</td>\n      <td>0.0</td>\n      <td>45.20</td>\n      <td>0.00</td>\n      <td>0.00</td>\n      <td>-98.92</td>\n      <td>-0.81</td>\n      <td>...</td>\n      <td>3.62</td>\n      <td>2.94</td>\n      <td>0.00</td>\n      <td>0.00</td>\n      <td>0.0</td>\n      <td>-9.14</td>\n      <td>-118.92</td>\n      <td>1575.42</td>\n      <td>1456.50</td>\n      <td>Consolidated_Q</td>\n    </tr>\n  </tbody>\n</table>\n<p>9561 rows × 25 columns</p>\n</div>"
     },
     "execution_count": 7,
     "metadata": {},
     "output_type": "execute_result"
    }
   ],
   "source": [
    "data.get_cf()"
   ],
   "metadata": {
    "collapsed": false,
    "pycharm": {
     "name": "#%%\n"
    }
   }
  },
  {
   "cell_type": "markdown",
   "source": [
    "## 트레일링 데이터 생성하기"
   ],
   "metadata": {
    "collapsed": false,
    "pycharm": {
     "name": "#%% md\n"
    }
   }
  },
  {
   "cell_type": "code",
   "execution_count": 8,
   "outputs": [
    {
     "name": "stdout",
     "output_type": "stream",
     "text": [
      "2022/03 2021/12 2021/09 2021/06 \n",
      "Please wait for getting trailing data...\n"
     ]
    },
    {
     "data": {
      "text/plain": "     stock_code   period       매출액      매출원가    매출총이익  판매비와 관리비     영업이익  \\\n0        000020  2022/03   3064.84   1483.17  1581.68   1317.38   264.31   \n1        000040  2022/03   1399.62   1218.58   181.02    212.59   -31.55   \n2        000050  2022/03   3975.72   2535.18  1440.54    849.51   591.02   \n3        000070  2022/03  32289.46  25241.47  7047.99   3873.29  3174.69   \n4        000080  2022/03  22515.06  13104.13  9410.94   7618.11  1792.83   \n...         ...      ...       ...       ...      ...       ...      ...   \n2208     950160  2022/03      0.00      0.00     0.00      0.00     0.00   \n2209     950190  2022/03    948.14    292.54   655.58    338.44   317.14   \n2210     950200  2022/03      0.00      0.00     0.00      0.00     0.00   \n2211     950210  2022/03      0.00      0.00     0.00    270.74  -270.74   \n2212     950220  2022/03      0.00      0.00     0.00    545.92  -545.92   \n\n        금융이익    금융원가    기타수익  ...  재무활동으로인한현금흐름  재무활동으로인한현금유입액  \\\n0      28.76   22.84   13.47  ...        -77.49           6.00   \n1      10.04   79.81   17.51  ...         43.20         171.60   \n2      93.09  230.69   71.14  ...        -88.52        3864.34   \n3     396.19  306.83  343.80  ...        686.23        9011.32   \n4      96.35  358.24  128.29  ...      -1697.99         647.03   \n...      ...     ...     ...  ...           ...            ...   \n2208    0.00    0.00    0.00  ...          0.00           0.00   \n2209   10.14    6.39    4.14  ...       -129.68         104.94   \n2210    0.00    0.00    0.00  ...          0.00           0.00   \n2211   28.99   36.32   28.74  ...        -40.24           0.00   \n2212    5.56   17.90    0.34  ...         16.59          25.94   \n\n      (재무활동으로인한현금유출액)  기타재무활동으로인한현금흐름  영업투자재무활동기타현금흐름  연결범위변동으로인한현금의증가  \\\n0               33.67          -49.82            0.00              0.0   \n1              128.40            0.00           -1.51              0.0   \n2             3920.37          -32.48            0.00              0.0   \n3             7983.79         -341.30            0.00              0.0   \n4             1822.95         -522.08            0.00              0.0   \n...               ...             ...             ...              ...   \n2208             0.00            0.00            0.00              0.0   \n2209           228.53           -6.10            0.00              0.0   \n2210             0.00            0.00            0.00              0.0   \n2211            40.24            0.00            0.00              0.0   \n2212             9.33            0.00            0.00              0.0   \n\n      환율변동효과  현금및현금성자산의증가  기초현금및현금성자산  기말현금및현금성자산  \n0       1.17       160.78     1991.09     2151.88  \n1      11.73       -63.59      964.58      900.99  \n2      16.04        30.98      767.48      798.46  \n3       5.30       -60.99     8384.76     8323.77  \n4      12.35     -1697.26    20454.99    18757.73  \n...      ...          ...         ...         ...  \n2208    0.00         0.00        0.00        0.00  \n2209    7.41       253.79     2061.50     2352.72  \n2210    0.00         0.00        0.00        0.00  \n2211  -24.59     -2268.24    12888.92    10718.61  \n2212  -15.20      -375.40     6644.92     6303.56  \n\n[2213 rows x 56 columns]",
      "text/html": "<div>\n<style scoped>\n    .dataframe tbody tr th:only-of-type {\n        vertical-align: middle;\n    }\n\n    .dataframe tbody tr th {\n        vertical-align: top;\n    }\n\n    .dataframe thead th {\n        text-align: right;\n    }\n</style>\n<table border=\"1\" class=\"dataframe\">\n  <thead>\n    <tr style=\"text-align: right;\">\n      <th></th>\n      <th>stock_code</th>\n      <th>period</th>\n      <th>매출액</th>\n      <th>매출원가</th>\n      <th>매출총이익</th>\n      <th>판매비와 관리비</th>\n      <th>영업이익</th>\n      <th>금융이익</th>\n      <th>금융원가</th>\n      <th>기타수익</th>\n      <th>...</th>\n      <th>재무활동으로인한현금흐름</th>\n      <th>재무활동으로인한현금유입액</th>\n      <th>(재무활동으로인한현금유출액)</th>\n      <th>기타재무활동으로인한현금흐름</th>\n      <th>영업투자재무활동기타현금흐름</th>\n      <th>연결범위변동으로인한현금의증가</th>\n      <th>환율변동효과</th>\n      <th>현금및현금성자산의증가</th>\n      <th>기초현금및현금성자산</th>\n      <th>기말현금및현금성자산</th>\n    </tr>\n  </thead>\n  <tbody>\n    <tr>\n      <th>0</th>\n      <td>000020</td>\n      <td>2022/03</td>\n      <td>3064.84</td>\n      <td>1483.17</td>\n      <td>1581.68</td>\n      <td>1317.38</td>\n      <td>264.31</td>\n      <td>28.76</td>\n      <td>22.84</td>\n      <td>13.47</td>\n      <td>...</td>\n      <td>-77.49</td>\n      <td>6.00</td>\n      <td>33.67</td>\n      <td>-49.82</td>\n      <td>0.00</td>\n      <td>0.0</td>\n      <td>1.17</td>\n      <td>160.78</td>\n      <td>1991.09</td>\n      <td>2151.88</td>\n    </tr>\n    <tr>\n      <th>1</th>\n      <td>000040</td>\n      <td>2022/03</td>\n      <td>1399.62</td>\n      <td>1218.58</td>\n      <td>181.02</td>\n      <td>212.59</td>\n      <td>-31.55</td>\n      <td>10.04</td>\n      <td>79.81</td>\n      <td>17.51</td>\n      <td>...</td>\n      <td>43.20</td>\n      <td>171.60</td>\n      <td>128.40</td>\n      <td>0.00</td>\n      <td>-1.51</td>\n      <td>0.0</td>\n      <td>11.73</td>\n      <td>-63.59</td>\n      <td>964.58</td>\n      <td>900.99</td>\n    </tr>\n    <tr>\n      <th>2</th>\n      <td>000050</td>\n      <td>2022/03</td>\n      <td>3975.72</td>\n      <td>2535.18</td>\n      <td>1440.54</td>\n      <td>849.51</td>\n      <td>591.02</td>\n      <td>93.09</td>\n      <td>230.69</td>\n      <td>71.14</td>\n      <td>...</td>\n      <td>-88.52</td>\n      <td>3864.34</td>\n      <td>3920.37</td>\n      <td>-32.48</td>\n      <td>0.00</td>\n      <td>0.0</td>\n      <td>16.04</td>\n      <td>30.98</td>\n      <td>767.48</td>\n      <td>798.46</td>\n    </tr>\n    <tr>\n      <th>3</th>\n      <td>000070</td>\n      <td>2022/03</td>\n      <td>32289.46</td>\n      <td>25241.47</td>\n      <td>7047.99</td>\n      <td>3873.29</td>\n      <td>3174.69</td>\n      <td>396.19</td>\n      <td>306.83</td>\n      <td>343.80</td>\n      <td>...</td>\n      <td>686.23</td>\n      <td>9011.32</td>\n      <td>7983.79</td>\n      <td>-341.30</td>\n      <td>0.00</td>\n      <td>0.0</td>\n      <td>5.30</td>\n      <td>-60.99</td>\n      <td>8384.76</td>\n      <td>8323.77</td>\n    </tr>\n    <tr>\n      <th>4</th>\n      <td>000080</td>\n      <td>2022/03</td>\n      <td>22515.06</td>\n      <td>13104.13</td>\n      <td>9410.94</td>\n      <td>7618.11</td>\n      <td>1792.83</td>\n      <td>96.35</td>\n      <td>358.24</td>\n      <td>128.29</td>\n      <td>...</td>\n      <td>-1697.99</td>\n      <td>647.03</td>\n      <td>1822.95</td>\n      <td>-522.08</td>\n      <td>0.00</td>\n      <td>0.0</td>\n      <td>12.35</td>\n      <td>-1697.26</td>\n      <td>20454.99</td>\n      <td>18757.73</td>\n    </tr>\n    <tr>\n      <th>...</th>\n      <td>...</td>\n      <td>...</td>\n      <td>...</td>\n      <td>...</td>\n      <td>...</td>\n      <td>...</td>\n      <td>...</td>\n      <td>...</td>\n      <td>...</td>\n      <td>...</td>\n      <td>...</td>\n      <td>...</td>\n      <td>...</td>\n      <td>...</td>\n      <td>...</td>\n      <td>...</td>\n      <td>...</td>\n      <td>...</td>\n      <td>...</td>\n      <td>...</td>\n      <td>...</td>\n    </tr>\n    <tr>\n      <th>2208</th>\n      <td>950160</td>\n      <td>2022/03</td>\n      <td>0.00</td>\n      <td>0.00</td>\n      <td>0.00</td>\n      <td>0.00</td>\n      <td>0.00</td>\n      <td>0.00</td>\n      <td>0.00</td>\n      <td>0.00</td>\n      <td>...</td>\n      <td>0.00</td>\n      <td>0.00</td>\n      <td>0.00</td>\n      <td>0.00</td>\n      <td>0.00</td>\n      <td>0.0</td>\n      <td>0.00</td>\n      <td>0.00</td>\n      <td>0.00</td>\n      <td>0.00</td>\n    </tr>\n    <tr>\n      <th>2209</th>\n      <td>950190</td>\n      <td>2022/03</td>\n      <td>948.14</td>\n      <td>292.54</td>\n      <td>655.58</td>\n      <td>338.44</td>\n      <td>317.14</td>\n      <td>10.14</td>\n      <td>6.39</td>\n      <td>4.14</td>\n      <td>...</td>\n      <td>-129.68</td>\n      <td>104.94</td>\n      <td>228.53</td>\n      <td>-6.10</td>\n      <td>0.00</td>\n      <td>0.0</td>\n      <td>7.41</td>\n      <td>253.79</td>\n      <td>2061.50</td>\n      <td>2352.72</td>\n    </tr>\n    <tr>\n      <th>2210</th>\n      <td>950200</td>\n      <td>2022/03</td>\n      <td>0.00</td>\n      <td>0.00</td>\n      <td>0.00</td>\n      <td>0.00</td>\n      <td>0.00</td>\n      <td>0.00</td>\n      <td>0.00</td>\n      <td>0.00</td>\n      <td>...</td>\n      <td>0.00</td>\n      <td>0.00</td>\n      <td>0.00</td>\n      <td>0.00</td>\n      <td>0.00</td>\n      <td>0.0</td>\n      <td>0.00</td>\n      <td>0.00</td>\n      <td>0.00</td>\n      <td>0.00</td>\n    </tr>\n    <tr>\n      <th>2211</th>\n      <td>950210</td>\n      <td>2022/03</td>\n      <td>0.00</td>\n      <td>0.00</td>\n      <td>0.00</td>\n      <td>270.74</td>\n      <td>-270.74</td>\n      <td>28.99</td>\n      <td>36.32</td>\n      <td>28.74</td>\n      <td>...</td>\n      <td>-40.24</td>\n      <td>0.00</td>\n      <td>40.24</td>\n      <td>0.00</td>\n      <td>0.00</td>\n      <td>0.0</td>\n      <td>-24.59</td>\n      <td>-2268.24</td>\n      <td>12888.92</td>\n      <td>10718.61</td>\n    </tr>\n    <tr>\n      <th>2212</th>\n      <td>950220</td>\n      <td>2022/03</td>\n      <td>0.00</td>\n      <td>0.00</td>\n      <td>0.00</td>\n      <td>545.92</td>\n      <td>-545.92</td>\n      <td>5.56</td>\n      <td>17.90</td>\n      <td>0.34</td>\n      <td>...</td>\n      <td>16.59</td>\n      <td>25.94</td>\n      <td>9.33</td>\n      <td>0.00</td>\n      <td>0.00</td>\n      <td>0.0</td>\n      <td>-15.20</td>\n      <td>-375.40</td>\n      <td>6644.92</td>\n      <td>6303.56</td>\n    </tr>\n  </tbody>\n</table>\n<p>2213 rows × 56 columns</p>\n</div>"
     },
     "execution_count": 8,
     "metadata": {},
     "output_type": "execute_result"
    }
   ],
   "source": [
    "df_trailing = data.get_trailing('2022/03')\n",
    "df_trailing"
   ],
   "metadata": {
    "collapsed": false,
    "pycharm": {
     "name": "#%%\n"
    }
   }
  },
  {
   "cell_type": "markdown",
   "source": [
    "## 팩터생성하기"
   ],
   "metadata": {
    "collapsed": false,
    "pycharm": {
     "name": "#%% md\n"
    }
   }
  },
  {
   "cell_type": "code",
   "execution_count": 9,
   "outputs": [],
   "source": [
    "stock = StockExtraction()"
   ],
   "metadata": {
    "collapsed": false,
    "pycharm": {
     "name": "#%%\n"
    }
   }
  },
  {
   "cell_type": "code",
   "execution_count": 10,
   "outputs": [
    {
     "name": "stdout",
     "output_type": "stream",
     "text": [
      "Already updated today.\n",
      "2022/03 2021/12 2021/09 2021/06 \n",
      "Please wait for getting trailing data...\n"
     ]
    },
    {
     "name": "stderr",
     "output_type": "stream",
     "text": [
      "/Users/miseong/PycharmProjects/invest_project/GetData.py:89: SettingWithCopyWarning: \n",
      "A value is trying to be set on a copy of a slice from a DataFrame\n",
      "\n",
      "See the caveats in the documentation: https://pandas.pydata.org/pandas-docs/stable/user_guide/indexing.html#returning-a-view-versus-a-copy\n",
      "  df_ohlc['open'][i] = float(df[df['code'] == df_ohlc['code'][i]].head(1)['open'])  # 분기별 시가\n",
      "/Users/miseong/PycharmProjects/invest_project/GetData.py:90: SettingWithCopyWarning: \n",
      "A value is trying to be set on a copy of a slice from a DataFrame\n",
      "\n",
      "See the caveats in the documentation: https://pandas.pydata.org/pandas-docs/stable/user_guide/indexing.html#returning-a-view-versus-a-copy\n",
      "  df_ohlc['close'][i] = float(df[df['code'] == df_ohlc['code'][i]].tail(1)['close'])  # 분기별 종가\n",
      "/Users/miseong/PycharmProjects/invest_project/GetData.py:91: SettingWithCopyWarning: \n",
      "A value is trying to be set on a copy of a slice from a DataFrame\n",
      "\n",
      "See the caveats in the documentation: https://pandas.pydata.org/pandas-docs/stable/user_guide/indexing.html#returning-a-view-versus-a-copy\n",
      "  df_ohlc['volume'][i] = float(df[df['code'] == df_ohlc['code'][i]].tail(1)['volume'])  # 분기별 거래량\n",
      "/Users/miseong/PycharmProjects/invest_project/GetData.py:92: SettingWithCopyWarning: \n",
      "A value is trying to be set on a copy of a slice from a DataFrame\n",
      "\n",
      "See the caveats in the documentation: https://pandas.pydata.org/pandas-docs/stable/user_guide/indexing.html#returning-a-view-versus-a-copy\n",
      "  df_ohlc['mktcap'][i] = float(df[df['code'] == df_ohlc['code'][i]].tail(1)['mktcap'])  # 분기별 시가총액\n",
      "/Users/miseong/PycharmProjects/invest_project/GetData.py:93: SettingWithCopyWarning: \n",
      "A value is trying to be set on a copy of a slice from a DataFrame\n",
      "\n",
      "See the caveats in the documentation: https://pandas.pydata.org/pandas-docs/stable/user_guide/indexing.html#returning-a-view-versus-a-copy\n",
      "  df_ohlc['list_shrs'][i] = float(\n"
     ]
    },
    {
     "data": {
      "text/plain": "     stock_code   period        mktcap   list_shrs    close           EPS  \\\n0        000020  2022/03  3.812646e+11  27931470.0  13650.0    711.491375   \n1        000040  2022/03  8.546612e+10  96137368.0    889.0   -134.026969   \n2        000050  2022/03  4.372736e+11  27415270.0  15950.0   1115.072002   \n3        000070  2022/03  7.373837e+11   8564271.0  86100.0  27841.715892   \n4        000080  2022/03  2.626504e+12  70133611.0  37450.0   1136.573447   \n...         ...      ...           ...         ...      ...           ...   \n2207     950160  2022/03  5.186079e+11  64745050.0   8010.0      0.000000   \n2208     950190  2022/03  2.756718e+11  13579892.0  20300.0   1977.998058   \n2209     950200  2022/03  1.394836e+11  19133553.0   7290.0      0.000000   \n2210     950210  2022/03  1.219952e+12  60096155.0  20300.0  -1827.038685   \n2211     950220  2022/03  7.178508e+11  98741510.0   7270.0   -566.884181   \n\n            PER           BPS        PBR            SPS  ...  Safety_Margin  \\\n0     19.185053  5.100294e+04   0.267632   10972.712858  ...    -557.678482   \n1     -6.632993  2.094253e+03   0.424495    1455.854294  ...   -3349.211802   \n2     14.304009  1.101691e+05   0.144777   14501.845140  ...  -22399.743348   \n3      3.092482  1.129448e+06   0.076232  377025.201561  ...  -22805.455996   \n4     32.949916  6.175983e+04   0.606381   32103.095333  ...  -90024.755979   \n...         ...           ...        ...            ...  ...            ...   \n2207        inf  5.969259e+02  13.418750       0.000000  ...   -7572.147757   \n2208  10.262902  3.458967e+04   0.586880    6981.940652  ...    -212.477114   \n2209        inf  1.634040e+03   4.461334       0.000000  ...   -1964.364021   \n2210 -11.110876  3.746181e+04   0.541885       0.000000  ...   -3853.979198   \n2211 -12.824489  6.743385e+03   1.078094       0.000000  ...   -4868.241665   \n\n           ROA       ROE      GP/A  Liability/Equity  Debt/Equity  \\\n0     0.011024  0.013950  0.087738          0.265438     0.265437   \n1    -0.018648 -0.063997  0.026198          2.431920     2.431905   \n2     0.005975  0.010121  0.028157          0.693878     0.693877   \n3     0.013525  0.024651  0.039977          0.822613     0.822612   \n4     0.005600  0.018403  0.066109          2.286561     2.286565   \n...        ...       ...       ...               ...          ...   \n2207  0.000000  0.000000  0.000000          0.588698     0.588698   \n2208  0.051066  0.057185  0.124635          0.119811     0.119811   \n2209  0.000000  0.000000  0.000000          0.450824     0.450824   \n2210 -0.044466 -0.048771  0.000000          0.096818     0.096818   \n2211 -0.074203 -0.084065  0.000000          0.132905     0.132906   \n\n      Assets_Turnover  Gross_Margin  Operating_Margin  Profit_Margin  \n0            0.170011      0.516073          0.086239       0.064842  \n1            0.202560      0.129335         -0.022542      -0.092061  \n2            0.077711      0.362334          0.148657       0.076892  \n3            0.183151      0.218275          0.098320       0.073846  \n4            0.158161      0.417984          0.079628       0.035404  \n...               ...           ...               ...            ...  \n2207         0.000000           NaN               NaN            NaN  \n2208         0.180254      0.691438          0.334486       0.283302  \n2209         0.000000           NaN               NaN            NaN  \n2210         0.000000           NaN              -inf           -inf  \n2211         0.000000           NaN              -inf           -inf  \n\n[2212 rows x 34 columns]",
      "text/html": "<div>\n<style scoped>\n    .dataframe tbody tr th:only-of-type {\n        vertical-align: middle;\n    }\n\n    .dataframe tbody tr th {\n        vertical-align: top;\n    }\n\n    .dataframe thead th {\n        text-align: right;\n    }\n</style>\n<table border=\"1\" class=\"dataframe\">\n  <thead>\n    <tr style=\"text-align: right;\">\n      <th></th>\n      <th>stock_code</th>\n      <th>period</th>\n      <th>mktcap</th>\n      <th>list_shrs</th>\n      <th>close</th>\n      <th>EPS</th>\n      <th>PER</th>\n      <th>BPS</th>\n      <th>PBR</th>\n      <th>SPS</th>\n      <th>...</th>\n      <th>Safety_Margin</th>\n      <th>ROA</th>\n      <th>ROE</th>\n      <th>GP/A</th>\n      <th>Liability/Equity</th>\n      <th>Debt/Equity</th>\n      <th>Assets_Turnover</th>\n      <th>Gross_Margin</th>\n      <th>Operating_Margin</th>\n      <th>Profit_Margin</th>\n    </tr>\n  </thead>\n  <tbody>\n    <tr>\n      <th>0</th>\n      <td>000020</td>\n      <td>2022/03</td>\n      <td>3.812646e+11</td>\n      <td>27931470.0</td>\n      <td>13650.0</td>\n      <td>711.491375</td>\n      <td>19.185053</td>\n      <td>5.100294e+04</td>\n      <td>0.267632</td>\n      <td>10972.712858</td>\n      <td>...</td>\n      <td>-557.678482</td>\n      <td>0.011024</td>\n      <td>0.013950</td>\n      <td>0.087738</td>\n      <td>0.265438</td>\n      <td>0.265437</td>\n      <td>0.170011</td>\n      <td>0.516073</td>\n      <td>0.086239</td>\n      <td>0.064842</td>\n    </tr>\n    <tr>\n      <th>1</th>\n      <td>000040</td>\n      <td>2022/03</td>\n      <td>8.546612e+10</td>\n      <td>96137368.0</td>\n      <td>889.0</td>\n      <td>-134.026969</td>\n      <td>-6.632993</td>\n      <td>2.094253e+03</td>\n      <td>0.424495</td>\n      <td>1455.854294</td>\n      <td>...</td>\n      <td>-3349.211802</td>\n      <td>-0.018648</td>\n      <td>-0.063997</td>\n      <td>0.026198</td>\n      <td>2.431920</td>\n      <td>2.431905</td>\n      <td>0.202560</td>\n      <td>0.129335</td>\n      <td>-0.022542</td>\n      <td>-0.092061</td>\n    </tr>\n    <tr>\n      <th>2</th>\n      <td>000050</td>\n      <td>2022/03</td>\n      <td>4.372736e+11</td>\n      <td>27415270.0</td>\n      <td>15950.0</td>\n      <td>1115.072002</td>\n      <td>14.304009</td>\n      <td>1.101691e+05</td>\n      <td>0.144777</td>\n      <td>14501.845140</td>\n      <td>...</td>\n      <td>-22399.743348</td>\n      <td>0.005975</td>\n      <td>0.010121</td>\n      <td>0.028157</td>\n      <td>0.693878</td>\n      <td>0.693877</td>\n      <td>0.077711</td>\n      <td>0.362334</td>\n      <td>0.148657</td>\n      <td>0.076892</td>\n    </tr>\n    <tr>\n      <th>3</th>\n      <td>000070</td>\n      <td>2022/03</td>\n      <td>7.373837e+11</td>\n      <td>8564271.0</td>\n      <td>86100.0</td>\n      <td>27841.715892</td>\n      <td>3.092482</td>\n      <td>1.129448e+06</td>\n      <td>0.076232</td>\n      <td>377025.201561</td>\n      <td>...</td>\n      <td>-22805.455996</td>\n      <td>0.013525</td>\n      <td>0.024651</td>\n      <td>0.039977</td>\n      <td>0.822613</td>\n      <td>0.822612</td>\n      <td>0.183151</td>\n      <td>0.218275</td>\n      <td>0.098320</td>\n      <td>0.073846</td>\n    </tr>\n    <tr>\n      <th>4</th>\n      <td>000080</td>\n      <td>2022/03</td>\n      <td>2.626504e+12</td>\n      <td>70133611.0</td>\n      <td>37450.0</td>\n      <td>1136.573447</td>\n      <td>32.949916</td>\n      <td>6.175983e+04</td>\n      <td>0.606381</td>\n      <td>32103.095333</td>\n      <td>...</td>\n      <td>-90024.755979</td>\n      <td>0.005600</td>\n      <td>0.018403</td>\n      <td>0.066109</td>\n      <td>2.286561</td>\n      <td>2.286565</td>\n      <td>0.158161</td>\n      <td>0.417984</td>\n      <td>0.079628</td>\n      <td>0.035404</td>\n    </tr>\n    <tr>\n      <th>...</th>\n      <td>...</td>\n      <td>...</td>\n      <td>...</td>\n      <td>...</td>\n      <td>...</td>\n      <td>...</td>\n      <td>...</td>\n      <td>...</td>\n      <td>...</td>\n      <td>...</td>\n      <td>...</td>\n      <td>...</td>\n      <td>...</td>\n      <td>...</td>\n      <td>...</td>\n      <td>...</td>\n      <td>...</td>\n      <td>...</td>\n      <td>...</td>\n      <td>...</td>\n      <td>...</td>\n    </tr>\n    <tr>\n      <th>2207</th>\n      <td>950160</td>\n      <td>2022/03</td>\n      <td>5.186079e+11</td>\n      <td>64745050.0</td>\n      <td>8010.0</td>\n      <td>0.000000</td>\n      <td>inf</td>\n      <td>5.969259e+02</td>\n      <td>13.418750</td>\n      <td>0.000000</td>\n      <td>...</td>\n      <td>-7572.147757</td>\n      <td>0.000000</td>\n      <td>0.000000</td>\n      <td>0.000000</td>\n      <td>0.588698</td>\n      <td>0.588698</td>\n      <td>0.000000</td>\n      <td>NaN</td>\n      <td>NaN</td>\n      <td>NaN</td>\n    </tr>\n    <tr>\n      <th>2208</th>\n      <td>950190</td>\n      <td>2022/03</td>\n      <td>2.756718e+11</td>\n      <td>13579892.0</td>\n      <td>20300.0</td>\n      <td>1977.998058</td>\n      <td>10.262902</td>\n      <td>3.458967e+04</td>\n      <td>0.586880</td>\n      <td>6981.940652</td>\n      <td>...</td>\n      <td>-212.477114</td>\n      <td>0.051066</td>\n      <td>0.057185</td>\n      <td>0.124635</td>\n      <td>0.119811</td>\n      <td>0.119811</td>\n      <td>0.180254</td>\n      <td>0.691438</td>\n      <td>0.334486</td>\n      <td>0.283302</td>\n    </tr>\n    <tr>\n      <th>2209</th>\n      <td>950200</td>\n      <td>2022/03</td>\n      <td>1.394836e+11</td>\n      <td>19133553.0</td>\n      <td>7290.0</td>\n      <td>0.000000</td>\n      <td>inf</td>\n      <td>1.634040e+03</td>\n      <td>4.461334</td>\n      <td>0.000000</td>\n      <td>...</td>\n      <td>-1964.364021</td>\n      <td>0.000000</td>\n      <td>0.000000</td>\n      <td>0.000000</td>\n      <td>0.450824</td>\n      <td>0.450824</td>\n      <td>0.000000</td>\n      <td>NaN</td>\n      <td>NaN</td>\n      <td>NaN</td>\n    </tr>\n    <tr>\n      <th>2210</th>\n      <td>950210</td>\n      <td>2022/03</td>\n      <td>1.219952e+12</td>\n      <td>60096155.0</td>\n      <td>20300.0</td>\n      <td>-1827.038685</td>\n      <td>-11.110876</td>\n      <td>3.746181e+04</td>\n      <td>0.541885</td>\n      <td>0.000000</td>\n      <td>...</td>\n      <td>-3853.979198</td>\n      <td>-0.044466</td>\n      <td>-0.048771</td>\n      <td>0.000000</td>\n      <td>0.096818</td>\n      <td>0.096818</td>\n      <td>0.000000</td>\n      <td>NaN</td>\n      <td>-inf</td>\n      <td>-inf</td>\n    </tr>\n    <tr>\n      <th>2211</th>\n      <td>950220</td>\n      <td>2022/03</td>\n      <td>7.178508e+11</td>\n      <td>98741510.0</td>\n      <td>7270.0</td>\n      <td>-566.884181</td>\n      <td>-12.824489</td>\n      <td>6.743385e+03</td>\n      <td>1.078094</td>\n      <td>0.000000</td>\n      <td>...</td>\n      <td>-4868.241665</td>\n      <td>-0.074203</td>\n      <td>-0.084065</td>\n      <td>0.000000</td>\n      <td>0.132905</td>\n      <td>0.132906</td>\n      <td>0.000000</td>\n      <td>NaN</td>\n      <td>-inf</td>\n      <td>-inf</td>\n    </tr>\n  </tbody>\n</table>\n<p>2212 rows × 34 columns</p>\n</div>"
     },
     "execution_count": 10,
     "metadata": {},
     "output_type": "execute_result"
    }
   ],
   "source": [
    "df_factor = stock.make_factor('2022Q1')\n",
    "df_factor"
   ],
   "metadata": {
    "collapsed": false,
    "pycharm": {
     "name": "#%%\n"
    }
   }
  },
  {
   "cell_type": "markdown",
   "source": [
    "## 종목 추출하기"
   ],
   "metadata": {
    "collapsed": false,
    "pycharm": {
     "name": "#%% md\n"
    }
   }
  },
  {
   "cell_type": "code",
   "execution_count": 11,
   "outputs": [
    {
     "name": "stdout",
     "output_type": "stream",
     "text": [
      "Already updated today.\n"
     ]
    },
    {
     "data": {
      "text/plain": "   stock_code    company\n0      005930       삼성전자\n1      373220   LG에너지솔루션\n2      000660     SK하이닉스\n3      035420      NAVER\n4      207940   삼성바이오로직스\n5      035720        카카오\n6      006400      삼성SDI\n7      005380      현대자동차\n8      051910       LG화학\n9      000270         기아\n10     005490   POSCO홀딩스\n11     068270       셀트리온\n12     028260       삼성물산\n13     012330      현대모비스\n14     096770    SK이노베이션\n15     066570       LG전자\n16     377300      카카오페이\n17     034730         SK\n18     015760     한국전력공사\n19     011200        HMM\n20     259960       크래프톤\n21     051900     LG생활건강\n22     352820        하이브\n23     017670      SK텔레콤\n24     034020    두산에너빌리티\n25     009150       삼성전기\n26     302440  SK바이오사이언스\n27     003550         LG\n28     033780      케이티앤지\n29     010130       고려아연",
      "text/html": "<div>\n<style scoped>\n    .dataframe tbody tr th:only-of-type {\n        vertical-align: middle;\n    }\n\n    .dataframe tbody tr th {\n        vertical-align: top;\n    }\n\n    .dataframe thead th {\n        text-align: right;\n    }\n</style>\n<table border=\"1\" class=\"dataframe\">\n  <thead>\n    <tr style=\"text-align: right;\">\n      <th></th>\n      <th>stock_code</th>\n      <th>company</th>\n    </tr>\n  </thead>\n  <tbody>\n    <tr>\n      <th>0</th>\n      <td>005930</td>\n      <td>삼성전자</td>\n    </tr>\n    <tr>\n      <th>1</th>\n      <td>373220</td>\n      <td>LG에너지솔루션</td>\n    </tr>\n    <tr>\n      <th>2</th>\n      <td>000660</td>\n      <td>SK하이닉스</td>\n    </tr>\n    <tr>\n      <th>3</th>\n      <td>035420</td>\n      <td>NAVER</td>\n    </tr>\n    <tr>\n      <th>4</th>\n      <td>207940</td>\n      <td>삼성바이오로직스</td>\n    </tr>\n    <tr>\n      <th>5</th>\n      <td>035720</td>\n      <td>카카오</td>\n    </tr>\n    <tr>\n      <th>6</th>\n      <td>006400</td>\n      <td>삼성SDI</td>\n    </tr>\n    <tr>\n      <th>7</th>\n      <td>005380</td>\n      <td>현대자동차</td>\n    </tr>\n    <tr>\n      <th>8</th>\n      <td>051910</td>\n      <td>LG화학</td>\n    </tr>\n    <tr>\n      <th>9</th>\n      <td>000270</td>\n      <td>기아</td>\n    </tr>\n    <tr>\n      <th>10</th>\n      <td>005490</td>\n      <td>POSCO홀딩스</td>\n    </tr>\n    <tr>\n      <th>11</th>\n      <td>068270</td>\n      <td>셀트리온</td>\n    </tr>\n    <tr>\n      <th>12</th>\n      <td>028260</td>\n      <td>삼성물산</td>\n    </tr>\n    <tr>\n      <th>13</th>\n      <td>012330</td>\n      <td>현대모비스</td>\n    </tr>\n    <tr>\n      <th>14</th>\n      <td>096770</td>\n      <td>SK이노베이션</td>\n    </tr>\n    <tr>\n      <th>15</th>\n      <td>066570</td>\n      <td>LG전자</td>\n    </tr>\n    <tr>\n      <th>16</th>\n      <td>377300</td>\n      <td>카카오페이</td>\n    </tr>\n    <tr>\n      <th>17</th>\n      <td>034730</td>\n      <td>SK</td>\n    </tr>\n    <tr>\n      <th>18</th>\n      <td>015760</td>\n      <td>한국전력공사</td>\n    </tr>\n    <tr>\n      <th>19</th>\n      <td>011200</td>\n      <td>HMM</td>\n    </tr>\n    <tr>\n      <th>20</th>\n      <td>259960</td>\n      <td>크래프톤</td>\n    </tr>\n    <tr>\n      <th>21</th>\n      <td>051900</td>\n      <td>LG생활건강</td>\n    </tr>\n    <tr>\n      <th>22</th>\n      <td>352820</td>\n      <td>하이브</td>\n    </tr>\n    <tr>\n      <th>23</th>\n      <td>017670</td>\n      <td>SK텔레콤</td>\n    </tr>\n    <tr>\n      <th>24</th>\n      <td>034020</td>\n      <td>두산에너빌리티</td>\n    </tr>\n    <tr>\n      <th>25</th>\n      <td>009150</td>\n      <td>삼성전기</td>\n    </tr>\n    <tr>\n      <th>26</th>\n      <td>302440</td>\n      <td>SK바이오사이언스</td>\n    </tr>\n    <tr>\n      <th>27</th>\n      <td>003550</td>\n      <td>LG</td>\n    </tr>\n    <tr>\n      <th>28</th>\n      <td>033780</td>\n      <td>케이티앤지</td>\n    </tr>\n    <tr>\n      <th>29</th>\n      <td>010130</td>\n      <td>고려아연</td>\n    </tr>\n  </tbody>\n</table>\n</div>"
     },
     "execution_count": 11,
     "metadata": {},
     "output_type": "execute_result"
    }
   ],
   "source": [
    "MKTCAP_top = 3 # 시가총액 상위 3%\n",
    "n = 30 # 30개 종목 추출\n",
    "factor_list = ['PER', 'PBR']\n",
    "s = stock.stock_select(df_factor, MKTCAP_top, n, factor_list)\n",
    "s"
   ],
   "metadata": {
    "collapsed": false,
    "pycharm": {
     "name": "#%%\n"
    }
   }
  },
  {
   "cell_type": "code",
   "execution_count": null,
   "outputs": [],
   "source": [],
   "metadata": {
    "collapsed": false,
    "pycharm": {
     "name": "#%%\n"
    }
   }
  }
 ],
 "metadata": {
  "kernelspec": {
   "name": "python3",
   "language": "python",
   "display_name": "Python 3 (ipykernel)"
  },
  "language_info": {
   "codemirror_mode": {
    "name": "ipython",
    "version": 2
   },
   "file_extension": ".py",
   "mimetype": "text/x-python",
   "name": "python",
   "nbconvert_exporter": "python",
   "pygments_lexer": "ipython2",
   "version": "2.7.6"
  }
 },
 "nbformat": 4,
 "nbformat_minor": 0
}